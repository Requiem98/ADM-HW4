{
 "cells": [
  {
   "cell_type": "code",
   "execution_count": 24,
   "id": "44a1c4f9-97ca-4ee5-90ea-41d5a8bf60f0",
   "metadata": {},
   "outputs": [],
   "source": [
    "from tqdm import tqdm\n",
    "from bitstring import BitArray\n",
    "import numpy as np"
   ]
  },
  {
   "cell_type": "code",
   "execution_count": 55,
   "id": "fb3a692e-4b69-4574-81fb-c4dab6bbbe94",
   "metadata": {},
   "outputs": [],
   "source": [
    "def test_hash_int(value):\n",
    "    \n",
    "    phi = (1 + 5 ** 0.5) / 2\n",
    "    g = int(2 ** 64 /phi)\n",
    "    value ^= value >> 61 # Does a \"bitwise exclusive or\". Each bit of the output is the same as the corresponding bit in x if that bit in y is 0, and it's the complement of the bit in x if that bit in y is 1.\n",
    "    value = (g * value) >> 61\n",
    "    return value"
   ]
  },
  {
   "cell_type": "code",
   "execution_count": 35,
   "id": "fc438c20-ba54-431c-8fdc-5c2636172357",
   "metadata": {},
   "outputs": [],
   "source": [
    "def test_hash_float(value):\n",
    "    \n",
    "    value = BitArray(float=value, length=64)\n",
    "    phi = (1 + 5 ** 0.5) / 2\n",
    "    g = int(2 ** 64 /phi)\n",
    "    \n",
    "\n",
    "    value ^= value >> 61\n",
    "    value = int(g * value.float)\n",
    " \n",
    "    return value"
   ]
  },
  {
   "cell_type": "code",
   "execution_count": 45,
   "id": "49f5b554-ed39-44d5-8578-08a90d9356a8",
   "metadata": {},
   "outputs": [
    {
     "name": "stderr",
     "output_type": "stream",
     "text": [
      "100%|██████████| 2000000/2000000 [01:04<00:00, 30931.11it/s]\n"
     ]
    }
   ],
   "source": [
    "setm = set()\n",
    "for i in tqdm(np.arange(0,2000, 0.001)):\n",
    "    setm.add(test_hash_float(i))\n"
   ]
  },
  {
   "cell_type": "code",
   "execution_count": 47,
   "id": "a8d565cb-1298-487c-9766-74d6bc320ca9",
   "metadata": {},
   "outputs": [
    {
     "name": "stdout",
     "output_type": "stream",
     "text": [
      "2000000\n",
      "2000000\n"
     ]
    }
   ],
   "source": [
    "print(len(setm))\n",
    "print(len(np.arange(0,2000,0.001)))"
   ]
  },
  {
   "cell_type": "code",
   "execution_count": 53,
   "id": "e742d8b2-c8c4-4350-9824-697ada6c345c",
   "metadata": {},
   "outputs": [
    {
     "data": {
      "text/plain": [
       "13048637362605560"
      ]
     },
     "execution_count": 53,
     "metadata": {},
     "output_type": "execute_result"
    }
   ],
   "source": [
    "test_hash_float(0.001144545545555554423)"
   ]
  },
  {
   "cell_type": "code",
   "execution_count": 56,
   "id": "6f55d1a7-da9a-41d5-b8fe-38e2a84720da",
   "metadata": {},
   "outputs": [],
   "source": [
    "def minhash(floatValues, intValues):\n",
    "    floatVal_h = []\n",
    "    intVal_h = []\n",
    "    \n",
    "    for fl in floatValues:\n",
    "        floatVal_h.append(test_hash_float(fl))\n",
    "        \n",
    "    for it in intValues:\n",
    "        intVal_h.append(test_hash_int(it))\n",
    "        \n",
    "    #.... e mo? da valutare....\n",
    "    "
   ]
  }
 ],
 "metadata": {
  "kernelspec": {
   "display_name": "Python 3",
   "language": "python",
   "name": "python3"
  },
  "language_info": {
   "codemirror_mode": {
    "name": "ipython",
    "version": 3
   },
   "file_extension": ".py",
   "mimetype": "text/x-python",
   "name": "python",
   "nbconvert_exporter": "python",
   "pygments_lexer": "ipython3",
   "version": "3.8.8"
  }
 },
 "nbformat": 4,
 "nbformat_minor": 5
}
