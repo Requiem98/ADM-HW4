{
 "cells": [
  {
   "cell_type": "code",
   "execution_count": 1,
   "id": "44a1c4f9-97ca-4ee5-90ea-41d5a8bf60f0",
   "metadata": {},
   "outputs": [],
   "source": [
    "from tqdm import tqdm\n",
    "from bitstring import BitArray\n",
    "import numpy as np"
   ]
  },
  {
   "cell_type": "code",
   "execution_count": 31,
   "id": "fb3a692e-4b69-4574-81fb-c4dab6bbbe94",
   "metadata": {},
   "outputs": [],
   "source": [
    "def test_hash_int(value):\n",
    "    \n",
    "    value = int(value)\n",
    "    \n",
    "    phi = (1 + 5 ** 0.5) / 2\n",
    "    g = int(2 ** 64 /phi)\n",
    "    value ^= value >> 61 # Does a \"bitwise exclusive or\". Each bit of the output is the same as the corresponding bit in x if that bit in y is 0, and it's the complement of the bit in x if that bit in y is 1.\n",
    "    value = (g * value) >> 61\n",
    "    return value"
   ]
  },
  {
   "cell_type": "code",
   "execution_count": 1,
   "id": "fc438c20-ba54-431c-8fdc-5c2636172357",
   "metadata": {},
   "outputs": [],
   "source": [
    "def fibonacci_hash_float(value):\n",
    "    \n",
    "    value = BitArray(float=value, length=64)\n",
    "    phi = (1 + 5 ** 0.5) / 2\n",
    "    g = int(2 ** 64 /phi)\n",
    "    \n",
    "\n",
    "    value ^= value >> 61\n",
    "    value = int(g * value.float)\n",
    " \n",
    "    return value"
   ]
  },
  {
   "cell_type": "code",
   "execution_count": 45,
   "id": "49f5b554-ed39-44d5-8578-08a90d9356a8",
   "metadata": {},
   "outputs": [
    {
     "name": "stderr",
     "output_type": "stream",
     "text": [
      "100%|██████████| 2000000/2000000 [01:04<00:00, 30931.11it/s]\n"
     ]
    }
   ],
   "source": [
    "setm = set()\n",
    "for i in tqdm(np.arange(0,2000, 0.001)):\n",
    "    setm.add(test_hash_float(i))\n"
   ]
  },
  {
   "cell_type": "code",
   "execution_count": 47,
   "id": "a8d565cb-1298-487c-9766-74d6bc320ca9",
   "metadata": {},
   "outputs": [
    {
     "name": "stdout",
     "output_type": "stream",
     "text": [
      "2000000\n",
      "2000000\n"
     ]
    }
   ],
   "source": [
    "print(len(setm))\n",
    "print(len(np.arange(0,2000,0.001)))"
   ]
  },
  {
   "cell_type": "code",
   "execution_count": 53,
   "id": "e742d8b2-c8c4-4350-9824-697ada6c345c",
   "metadata": {},
   "outputs": [
    {
     "data": {
      "text/plain": [
       "13048637362605560"
      ]
     },
     "execution_count": 53,
     "metadata": {},
     "output_type": "execute_result"
    }
   ],
   "source": [
    "test_hash_float(0.001144545545555554423)"
   ]
  },
  {
   "cell_type": "code",
   "execution_count": 81,
   "id": "6f55d1a7-da9a-41d5-b8fe-38e2a84720da",
   "metadata": {},
   "outputs": [],
   "source": [
    "def minhash(freqs, times, threshold = None, duration = None):\n",
    "    old_threshold = threshold\n",
    "    f = 0\n",
    "    out = []\n",
    "    \n",
    "    for i in range(0,duration//threshold):\n",
    "\n",
    "        for fr, tm in zip(freqs,times):\n",
    "            \n",
    "            if(tm < threshold and tm > (threshold-old_threshold)):\n",
    "            \n",
    "                f += (test_hash_float(fr) + test_hash_float(tm))\n",
    "                \n",
    "            \n",
    "        out.append(test_hash_float(f))    \n",
    "        \n",
    "        threshold += old_threshold\n",
    "    \n",
    "    out = np.min(out)\n",
    "    \n",
    "    return out\n",
    "    \n",
    "        \n",
    "    #.... e mo? da valutare....\n",
    "    "
   ]
  },
  {
   "cell_type": "code",
   "execution_count": 93,
   "id": "fedad254-8719-4a86-b40a-666b732c1fab",
   "metadata": {},
   "outputs": [],
   "source": [
    "a = np.random.normal(0,30, size = 20)\n",
    "b = np.random.normal(0, 1049, size = 20)\n",
    "a = abs(a)\n",
    "b = abs(b)"
   ]
  },
  {
   "cell_type": "code",
   "execution_count": 94,
   "id": "59a13102-3c6b-4b10-8a16-0978c050eb8b",
   "metadata": {},
   "outputs": [
    {
     "data": {
      "text/plain": [
       "500306653179891231383489537655657044377600"
      ]
     },
     "execution_count": 94,
     "metadata": {},
     "output_type": "execute_result"
    }
   ],
   "source": [
    "minhash(b,a,5,30)"
   ]
  },
  {
   "cell_type": "code",
   "execution_count": 75,
   "id": "165b5c39-7b89-4157-b082-f6730d8e7d41",
   "metadata": {},
   "outputs": [
    {
     "data": {
      "text/plain": [
       "array([43.64715179,  5.72406566, 26.80923185, 13.4111356 , 39.76989187,\n",
       "       21.94160356, 44.85278627,  8.17282054,  1.56883747, 84.97118084,\n",
       "       17.76048701, 31.7438972 , 29.97554441, 32.52407653, 29.59476827,\n",
       "        9.96261126,  6.18698109, 11.01834602, 17.2729524 , 31.18411419])"
      ]
     },
     "execution_count": 75,
     "metadata": {},
     "output_type": "execute_result"
    }
   ],
   "source": [
    "a"
   ]
  },
  {
   "cell_type": "code",
   "execution_count": 2,
   "id": "18336644-9aa4-4d52-b6fb-7c884651ddf2",
   "metadata": {},
   "outputs": [
    {
     "data": {
      "text/plain": [
       "BitArray('0x4025000000000000')"
      ]
     },
     "execution_count": 2,
     "metadata": {},
     "output_type": "execute_result"
    }
   ],
   "source": [
    "BitArray(float=10.5, length=64)"
   ]
  }
 ],
 "metadata": {
  "kernelspec": {
   "display_name": "Python 3",
   "language": "python",
   "name": "python3"
  },
  "language_info": {
   "codemirror_mode": {
    "name": "ipython",
    "version": 3
   },
   "file_extension": ".py",
   "mimetype": "text/x-python",
   "name": "python",
   "nbconvert_exporter": "python",
   "pygments_lexer": "ipython3",
   "version": "3.8.8"
  }
 },
 "nbformat": 4,
 "nbformat_minor": 5
}
