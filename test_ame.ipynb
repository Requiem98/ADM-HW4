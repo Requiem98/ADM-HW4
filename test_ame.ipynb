{
 "cells": [
  {
   "cell_type": "code",
   "execution_count": 1,
   "id": "44a1c4f9-97ca-4ee5-90ea-41d5a8bf60f0",
   "metadata": {},
   "outputs": [],
   "source": [
    "from tqdm import tqdm\n",
    "from bitstring import BitArray\n",
    "import numpy as np\n",
    "from collections import *"
   ]
  },
  {
   "cell_type": "code",
   "execution_count": 209,
   "id": "652f6b36-0199-446a-9d4f-239e4afe58b5",
   "metadata": {},
   "outputs": [],
   "source": [
    "def fibonacci_hash_float(value:float):\n",
    "    \n",
    "    value = BitArray(float=value, length=64)\n",
    "    phi = (1 + 5 ** 0.5) / 2\n",
    "    g = int(2 ** 64 /phi)\n",
    "    \n",
    "\n",
    "    value ^= value >> 61\n",
    "    value = int(g * value.float * np.random.random_sample())\n",
    " \n",
    "    return value"
   ]
  },
  {
   "cell_type": "code",
   "execution_count": 116,
   "id": "4659a60b-a2da-4479-b415-86b7f5c38eaf",
   "metadata": {},
   "outputs": [],
   "source": [
    "def minhash(freqs, times, threshold = None):\n",
    "    old_threshold = threshold\n",
    "    picks = []\n",
    "    out = []\n",
    "    f = 0\n",
    "    \n",
    "    for i in range(0,threshold):\n",
    "        picks = []\n",
    "        for fr, tm in zip(freqs,times):\n",
    "            picks.append(fibonacci_hash_float(fr) ^ fibonacci_hash_float(tm))\n",
    "        \n",
    "        out.append(np.min(picks))\n",
    "        \n",
    "\n",
    "\n",
    "    \n",
    "    return out    "
   ]
  },
  {
   "cell_type": "code",
   "execution_count": 27,
   "id": "65448389-56f3-4989-aabc-cc7caee173da",
   "metadata": {},
   "outputs": [],
   "source": [
    "class HashTable:\n",
    "    def __init__(self, hash_size, inp_dimensions):\n",
    "        self.hash_size = hash_size\n",
    "        self.inp_dimensions = inp_dimensions\n",
    "        self.hash_table = dict()\n",
    "        self.projections = np.random.randn(self.hash_size, inp_dimensions)\n",
    "        \n",
    "    def generate_hash(self, inp_vector):\n",
    "        bools = (np.dot(inp_vector, self.projections.T) > 0).astype('int')\n",
    "        return ''.join(bools.astype('str'))\n",
    "\n",
    "    def setitem(self, inp_vec, label):\n",
    "        hash_value = self.generate_hash(inp_vec)\n",
    "        self.hash_table[hash_value] = self.hash_table.get(hash_value, list()) + [label]\n",
    "        \n",
    "    def getitem(self, inp_vec):\n",
    "        hash_value = self.generate_hash(inp_vec)\n",
    "        return self.hash_table.get(hash_value, [])\n",
    "        \n",
    "hash_table = HashTable(hash_size=4, inp_dimensions=20)"
   ]
  },
  {
   "cell_type": "code",
   "execution_count": 4,
   "id": "234f800f-b89a-4894-ba7e-fc437cdb7eb2",
   "metadata": {},
   "outputs": [
    {
     "data": {
      "text/plain": [
       "array([0.94986562, 0.92071818, 0.08748267, 0.46750966, 0.07163665,\n",
       "       0.64865436, 0.23848227, 0.34934048, 0.13342551, 0.09856092,\n",
       "       0.51274838, 0.30904344, 0.01825954, 0.79880908, 0.09458141,\n",
       "       0.63409216, 0.09697352, 0.0934845 , 0.22691578, 0.74800618])"
      ]
     },
     "execution_count": 4,
     "metadata": {},
     "output_type": "execute_result"
    }
   ],
   "source": [
    "np.random.random_sample(20)"
   ]
  },
  {
   "cell_type": "code",
   "execution_count": 23,
   "id": "ca3fdb31-695f-417c-ad6c-c90ae53a5869",
   "metadata": {},
   "outputs": [
    {
     "data": {
      "text/plain": [
       "'1011'"
      ]
     },
     "execution_count": 23,
     "metadata": {},
     "output_type": "execute_result"
    }
   ],
   "source": [
    "hash_table.generate_hash(np.random.random_sample(20))"
   ]
  },
  {
   "cell_type": "code",
   "execution_count": 30,
   "id": "ec596dce-86ca-4d6c-a7de-71ba36106fea",
   "metadata": {},
   "outputs": [],
   "source": [
    "hash_table.setitem(np.random.random_sample(20), 1)"
   ]
  },
  {
   "cell_type": "code",
   "execution_count": 60,
   "id": "fb5f13e9-0ef7-4667-bda7-3472106ee182",
   "metadata": {},
   "outputs": [
    {
     "data": {
      "text/plain": [
       "[]"
      ]
     },
     "execution_count": 60,
     "metadata": {},
     "output_type": "execute_result"
    }
   ],
   "source": [
    "hash_table.getitem(np.random.random_sample(20))"
   ]
  },
  {
   "cell_type": "code",
   "execution_count": 61,
   "id": "b9479d7f-816f-4e8b-a67f-b77138919c04",
   "metadata": {},
   "outputs": [],
   "source": [
    "class LSH:\n",
    "    def __init__(self, num_tables, hash_size, inp_dimensions):\n",
    "        self.num_tables = num_tables\n",
    "        self.hash_size = hash_size\n",
    "        self.inp_dimensions = inp_dimensions\n",
    "        self.hash_tables = list()\n",
    "        for i in range(self.num_tables):\n",
    "            self.hash_tables.append(HashTable(self.hash_size, self.inp_dimensions))\n",
    "    \n",
    "    def setitem(self, inp_vec, label):\n",
    "        for table in self.hash_tables:\n",
    "            table.setitem(inp_vec, label)\n",
    "    \n",
    "    def getitem(self, inp_vec):\n",
    "        results = list()\n",
    "        for table in self.hash_tables:\n",
    "            results.extend(table.getitem(inp_vec))\n",
    "        return list(set(results))"
   ]
  },
  {
   "cell_type": "code",
   "execution_count": 64,
   "id": "d932a9db-4d83-4b70-b2bc-bc533da01001",
   "metadata": {},
   "outputs": [],
   "source": [
    "lsh = LSH(20, 6, 20)"
   ]
  },
  {
   "cell_type": "code",
   "execution_count": 73,
   "id": "d728841c-d340-4be0-b08d-885e66b80f0c",
   "metadata": {},
   "outputs": [],
   "source": [
    "lsh.setitem(np.random.random_sample(20), \"test1\")"
   ]
  },
  {
   "cell_type": "code",
   "execution_count": 74,
   "id": "27f2c966-638f-47f3-936e-8f3f083c79d3",
   "metadata": {},
   "outputs": [
    {
     "data": {
      "text/plain": [
       "['test2', 'test3', 'test1']"
      ]
     },
     "execution_count": 74,
     "metadata": {},
     "output_type": "execute_result"
    }
   ],
   "source": [
    "lsh.getitem(np.random.random_sample(20))"
   ]
  }
 ],
 "metadata": {
  "kernelspec": {
   "display_name": "Python 3",
   "language": "python",
   "name": "python3"
  },
  "language_info": {
   "codemirror_mode": {
    "name": "ipython",
    "version": 3
   },
   "file_extension": ".py",
   "mimetype": "text/x-python",
   "name": "python",
   "nbconvert_exporter": "python",
   "pygments_lexer": "ipython3",
   "version": "3.8.8"
  }
 },
 "nbformat": 4,
 "nbformat_minor": 5
}
