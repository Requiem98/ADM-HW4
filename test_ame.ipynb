{
 "cells": [
  {
   "cell_type": "code",
   "execution_count": 275,
   "id": "44a1c4f9-97ca-4ee5-90ea-41d5a8bf60f0",
   "metadata": {},
   "outputs": [],
   "source": [
    "from tqdm import tqdm\n",
    "from bitstring import BitArray\n",
    "import numpy as np\n",
    "from collections import *"
   ]
  },
  {
   "cell_type": "code",
   "execution_count": 209,
   "id": "652f6b36-0199-446a-9d4f-239e4afe58b5",
   "metadata": {},
   "outputs": [],
   "source": [
    "def fibonacci_hash_float(value:float):\n",
    "    \n",
    "    value = BitArray(float=value, length=64)\n",
    "    phi = (1 + 5 ** 0.5) / 2\n",
    "    g = int(2 ** 64 /phi)\n",
    "    \n",
    "\n",
    "    value ^= value >> 61\n",
    "    value = int(g * value.float * np.random.random_sample())\n",
    " \n",
    "    return value"
   ]
  },
  {
   "cell_type": "code",
   "execution_count": 116,
   "id": "4659a60b-a2da-4479-b415-86b7f5c38eaf",
   "metadata": {},
   "outputs": [],
   "source": [
    "def minhash(freqs, times, threshold = None):\n",
    "    old_threshold = threshold\n",
    "    picks = []\n",
    "    out = []\n",
    "    f = 0\n",
    "    \n",
    "    for i in range(0,threshold):\n",
    "        picks = []\n",
    "        for fr, tm in zip(freqs,times):\n",
    "            picks.append(fibonacci_hash_float(fr) ^ fibonacci_hash_float(tm))\n",
    "        \n",
    "        out.append(np.min(picks))\n",
    "        \n",
    "\n",
    "\n",
    "    \n",
    "    return out    "
   ]
  },
  {
   "cell_type": "code",
   "execution_count": 119,
   "id": "79ca67f3-fcb7-427f-8536-fb60b55c62a6",
   "metadata": {},
   "outputs": [],
   "source": [
    "b = 30\n",
    "a = 0\n",
    "es = (b - a) * np.random.random_sample(50) + a"
   ]
  },
  {
   "cell_type": "code",
   "execution_count": 118,
   "id": "f7d1ac57-7926-4e9e-a4ff-d2505bfc0698",
   "metadata": {},
   "outputs": [
    {
     "data": {
      "text/plain": [
       "[703138831747335424,\n",
       " 240150506633018624,\n",
       " 1852260760376621312,\n",
       " 635893337723965952,\n",
       " 68715354666240000]"
      ]
     },
     "execution_count": 118,
     "metadata": {},
     "output_type": "execute_result"
    }
   ],
   "source": [
    "minhash(np.random.rand(50), es, 5)"
   ]
  },
  {
   "cell_type": "code",
   "execution_count": 124,
   "id": "60907708-9bc6-4ecf-9b38-cc20ddfed0a2",
   "metadata": {},
   "outputs": [],
   "source": [
    "tes = []\n",
    "\n",
    "tes.append(minhash(np.random.rand(50), es, 6))\n",
    "tes.append(minhash(np.random.rand(50), es, 6))"
   ]
  },
  {
   "cell_type": "code",
   "execution_count": 151,
   "id": "c992e898-627a-4893-b811-18268dcbb4a8",
   "metadata": {},
   "outputs": [
    {
     "data": {
      "text/plain": [
       "array([[ 839062061416448896,  115851297132361216],\n",
       "       [1370521585378371488, 1063048003586958816],\n",
       "       [ 282878549659531264,  242231118334144928],\n",
       "       [  38858651052930432,  323474749746183936],\n",
       "       [ 445912721613501696,  910479426537176064],\n",
       "       [ 557524212649909248, 1881576893128818944]])"
      ]
     },
     "execution_count": 151,
     "metadata": {},
     "output_type": "execute_result"
    }
   ],
   "source": [
    "m = np.array(tes).T\n",
    "m"
   ]
  },
  {
   "cell_type": "code",
   "execution_count": null,
   "id": "12bdcbad-770b-4773-9dd1-79952bc6da5e",
   "metadata": {},
   "outputs": [],
   "source": [
    "def make_signatureMatrix(songs):\n",
    "    sig_matrix = []\n",
    "    for freq, tm in song:\n",
    "        sig_matrix = minhash(freq,tm, 5)\n",
    "        \n",
    "    return sig_matrix.T"
   ]
  },
  {
   "cell_type": "code",
   "execution_count": null,
   "id": "f7b2a90b-036f-4608-b430-6ff8cf5af884",
   "metadata": {},
   "outputs": [],
   "source": []
  },
  {
   "cell_type": "code",
   "execution_count": 229,
   "id": "4ab4ddb7-8960-473f-9d3f-5f59606a86f6",
   "metadata": {},
   "outputs": [
    {
     "data": {
      "text/plain": [
       "array([[ 839062061416448896,  115851297132361216],\n",
       "       [1370521585378371488, 1063048003586958816],\n",
       "       [ 282878549659531264,  242231118334144928],\n",
       "       [  38858651052930432,  323474749746183936],\n",
       "       [ 445912721613501696,  910479426537176064],\n",
       "       [ 557524212649909248, 1881576893128818944]])"
      ]
     },
     "execution_count": 229,
     "metadata": {},
     "output_type": "execute_result"
    }
   ],
   "source": [
    "m"
   ]
  },
  {
   "cell_type": "code",
   "execution_count": 293,
   "id": "a3c8205d-d7de-4790-be83-e86d9bb967c4",
   "metadata": {},
   "outputs": [],
   "source": [
    "def lsh(sig_matrix, b=2):\n",
    "\n",
    "    band_numb = sig_matrix.shape[0]//b\n",
    "    bucket_matrix = []\n",
    "\n",
    "    for i in range(0,band_numb):\n",
    "\n",
    "        band = m[b*i:b*(i+1)]\n",
    "        \n",
    "        bucket_row = defaultdict(lambda: 0)\n",
    "        \n",
    "        for j in range(band.shape[1]):\n",
    "            \n",
    "            bucket_row[hash_2(band[:,j])] += 1\n",
    "\n",
    "        bucket_matrix.append(bucket_row.values())\n",
    "\n",
    "\n",
    "    return np.array(bucket_matrix)\n"
   ]
  },
  {
   "cell_type": "code",
   "execution_count": 294,
   "id": "991692a5-19e3-4fec-a699-4137a6087054",
   "metadata": {},
   "outputs": [
    {
     "data": {
      "text/plain": [
       "array([dict_values([1, 1]), dict_values([1, 1]), dict_values([1, 1])],\n",
       "      dtype=object)"
      ]
     },
     "execution_count": 294,
     "metadata": {},
     "output_type": "execute_result"
    }
   ],
   "source": [
    "lsh(m)"
   ]
  },
  {
   "cell_type": "code",
   "execution_count": 284,
   "id": "1a29dd6d-f405-4804-9907-12937e0e8485",
   "metadata": {},
   "outputs": [
    {
     "data": {
      "text/plain": [
       "0"
      ]
     },
     "execution_count": 284,
     "metadata": {},
     "output_type": "execute_result"
    }
   ],
   "source": [
    "di = defaultdict(lambda: 0)\n",
    "\n",
    "di[\"ciao\"]"
   ]
  },
  {
   "cell_type": "code",
   "execution_count": 267,
   "id": "d99e210a-8ce0-46d1-8392-678b275137b4",
   "metadata": {},
   "outputs": [],
   "source": [
    "def hash_2(vet):\n",
    "    out = 0\n",
    "    for el in vet:\n",
    "        out ^= el\n",
    "        \n",
    "    out = fibonacci_hash_float(out)\n",
    "        \n",
    "    return int(str(out)[:15])"
   ]
  },
  {
   "cell_type": "code",
   "execution_count": 268,
   "id": "e4fd534f-5338-4e01-94ff-b130081c9ca3",
   "metadata": {},
   "outputs": [
    {
     "data": {
      "text/plain": [
       "183673185045734"
      ]
     },
     "execution_count": 268,
     "metadata": {},
     "output_type": "execute_result"
    }
   ],
   "source": [
    "hash_2(m[0:b*2,][:,0])"
   ]
  }
 ],
 "metadata": {
  "kernelspec": {
   "display_name": "Python 3",
   "language": "python",
   "name": "python3"
  },
  "language_info": {
   "codemirror_mode": {
    "name": "ipython",
    "version": 3
   },
   "file_extension": ".py",
   "mimetype": "text/x-python",
   "name": "python",
   "nbconvert_exporter": "python",
   "pygments_lexer": "ipython3",
   "version": "3.8.8"
  }
 },
 "nbformat": 4,
 "nbformat_minor": 5
}
