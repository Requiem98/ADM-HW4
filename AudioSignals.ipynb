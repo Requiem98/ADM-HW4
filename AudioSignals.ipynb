{
 "cells": [
  {
   "cell_type": "code",
   "execution_count": 1,
   "metadata": {},
   "outputs": [],
   "source": [
    "import numpy as np      \n",
    "import matplotlib.pyplot as plt \n",
    "import scipy.io.wavfile \n",
    "import subprocess\n",
    "import librosa\n",
    "import librosa.display\n",
    "import IPython.display as ipd\n",
    "\n",
    "from pathlib import Path, PurePath   \n",
    "from tqdm.notebook import tqdm"
   ]
  },
  {
   "cell_type": "markdown",
   "metadata": {},
   "source": [
    "## Utility functions"
   ]
  },
  {
   "cell_type": "code",
   "execution_count": 2,
   "metadata": {},
   "outputs": [],
   "source": [
    "def convert_mp3_to_wav(audio:str) -> str:  \n",
    "    \"\"\"Convert an input MP3 audio track into a WAV file.\n",
    "\n",
    "    Args:\n",
    "        audio (str): An input audio track.\n",
    "\n",
    "    Returns:\n",
    "        [str]: WAV filename.\n",
    "    \"\"\"\n",
    "    if audio[-3:] == \"mp3\":\n",
    "        wav_audio = audio[:-3] + \"wav\"\n",
    "        if not Path(wav_audio).exists():\n",
    "                subprocess.check_output(f\"ffmpeg -i {audio} {wav_audio}\", shell=True)\n",
    "        return wav_audio\n",
    "    \n",
    "    return audio\n",
    "\n",
    "def plot_spectrogram_and_picks(track:np.ndarray, sr:int, peaks:np.ndarray, onset_env:np.ndarray) -> None:\n",
    "    \"\"\"[summary]\n",
    "\n",
    "    Args:\n",
    "        track (np.ndarray): A track.\n",
    "        sr (int): Aampling rate.\n",
    "        peaks (np.ndarray): Indices of peaks in the track.\n",
    "        onset_env (np.ndarray): Vector containing the onset strength envelope.\n",
    "    \"\"\"\n",
    "    times = librosa.frames_to_time(np.arange(len(onset_env)),\n",
    "                            sr=sr, hop_length=HOP_SIZE)\n",
    "\n",
    "    plt.figure()\n",
    "    ax = plt.subplot(2, 1, 2)\n",
    "    D = librosa.stft(track)\n",
    "    librosa.display.specshow(librosa.amplitude_to_db(np.abs(D), ref=np.max),\n",
    "                            y_axis='log', x_axis='time')\n",
    "    plt.subplot(2, 1, 1, sharex=ax)\n",
    "    plt.plot(times, onset_env, alpha=0.8, label='Onset strength')\n",
    "    plt.vlines(times[peaks], 0,\n",
    "            onset_env.max(), color='r', alpha=0.8,\n",
    "            label='Selected peaks')\n",
    "    plt.legend(frameon=True, framealpha=0.8)\n",
    "    plt.axis('tight')\n",
    "    plt.tight_layout()\n",
    "    plt.show()\n",
    "\n",
    "def load_audio_picks(audio, duration, hop_size):\n",
    "    \"\"\"[summary]\n",
    "\n",
    "    Args:\n",
    "        audio (string, int, pathlib.Path or file-like object): [description]\n",
    "        duration (int): [description]\n",
    "        hop_size (int): \n",
    "\n",
    "    Returns:\n",
    "        tuple: Returns the audio time series (track) and sampling rate (sr), a vector containing the onset strength envelope\n",
    "        (onset_env), and the indices of peaks in track (peaks).\n",
    "    \"\"\"\n",
    "    try:\n",
    "        track, sr = librosa.load(audio, duration=duration)\n",
    "        onset_env = librosa.onset.onset_strength(track, sr=sr, hop_length=hop_size)\n",
    "        peaks = librosa.util.peak_pick(onset_env, 10, 10, 10, 10, 0.5, 0.5)\n",
    "    except Error as e:\n",
    "        print('An error occurred processing ', str(audio))\n",
    "        print(e)\n",
    "\n",
    "    return track, sr, onset_env, peaks\n",
    "    \n",
    "    "
   ]
  },
  {
   "cell_type": "markdown",
   "metadata": {},
   "source": [
    "## Settings"
   ]
  },
  {
   "cell_type": "code",
   "execution_count": 3,
   "metadata": {},
   "outputs": [],
   "source": [
    "N_TRACKS = 1413\n",
    "HOP_SIZE = 512\n",
    "DURATION = 30 # TODO: to be tuned!\n",
    "THRESHOLD = 5 # TODO: to be tuned!"
   ]
  },
  {
   "cell_type": "code",
   "execution_count": 4,
   "metadata": {},
   "outputs": [],
   "source": [
    "data_folder = Path(\"./data/mp3s-32k/\")\n",
    "mp3_tracks = data_folder.glob(\"*/*/*.mp3\")\n",
    "tracks = data_folder.glob(\"*/*/*.wav\")"
   ]
  },
  {
   "cell_type": "code",
   "execution_count": 5,
   "metadata": {},
   "outputs": [],
   "source": [
    "songs = list(data_folder.glob(\"*/*/*.wav\"))"
   ]
  },
  {
   "cell_type": "markdown",
   "metadata": {},
   "source": [
    "## Preprocessing"
   ]
  },
  {
   "cell_type": "code",
   "execution_count": 6,
   "metadata": {},
   "outputs": [],
   "source": [
    "def preprocessing(mp3_tracks):\n",
    "    for track in tqdm(mp3_tracks, total=N_TRACKS):\n",
    "        convert_mp3_to_wav(str(track))"
   ]
  },
  {
   "cell_type": "code",
   "execution_count": 7,
   "metadata": {},
   "outputs": [],
   "source": [
    "#preprocessing(mp3_tracks)"
   ]
  },
  {
   "cell_type": "markdown",
   "metadata": {},
   "source": [
    "## Audio signals"
   ]
  },
  {
   "cell_type": "code",
   "execution_count": 8,
   "metadata": {},
   "outputs": [
    {
     "data": {
      "text/plain": [
       "'for idx, audio in enumerate(tracks):\\n    if idx >= 1:\\n        break\\n    track, sr, onset_env, peaks = load_audio_picks(audio, DURATION, HOP_SIZE)\\n    plot_spectrogram_and_picks(track, sr, peaks, onset_env)\\n        \\n        '"
      ]
     },
     "execution_count": 8,
     "metadata": {},
     "output_type": "execute_result"
    }
   ],
   "source": [
    "\"\"\"for idx, audio in enumerate(tracks):\n",
    "    if idx >= 1:\n",
    "        break\n",
    "    track, sr, onset_env, peaks = load_audio_picks(audio, DURATION, HOP_SIZE)\n",
    "    plot_spectrogram_and_picks(track, sr, peaks, onset_env)\n",
    "        \n",
    "        \"\"\""
   ]
  },
  {
   "cell_type": "markdown",
   "metadata": {},
   "source": [
    "## Minhash"
   ]
  },
  {
   "cell_type": "code",
   "execution_count": 9,
   "metadata": {},
   "outputs": [],
   "source": [
    "# TODO"
   ]
  },
  {
   "cell_type": "code",
   "execution_count": 10,
   "metadata": {},
   "outputs": [],
   "source": [
    "from bitstring import BitArray\n",
    "import pandas as pd\n",
    "from collections import *\n",
    "import pickle\n",
    "import multiprocessing\n",
    "from multiprocessing.dummy import Pool\n",
    "import random"
   ]
  },
  {
   "cell_type": "code",
   "execution_count": 11,
   "metadata": {},
   "outputs": [],
   "source": [
    "def save_object(obj, filename):\n",
    "    with open(filename, 'wb') as outp:  # Overwrites any existing file.\n",
    "        pickle.dump(obj, outp, pickle.HIGHEST_PROTOCOL)"
   ]
  },
  {
   "cell_type": "code",
   "execution_count": 12,
   "metadata": {},
   "outputs": [],
   "source": [
    "def read_object(filename):\n",
    "    with open(filename, 'rb') as file:\n",
    "        data = pickle.load(file)\n",
    "    return data"
   ]
  },
  {
   "cell_type": "code",
   "execution_count": 13,
   "metadata": {},
   "outputs": [],
   "source": [
    "def timeOfPeaks(peaks, times):\n",
    "    timesPeaks = []\n",
    "    \n",
    "    for i in peaks:\n",
    "        timesPeaks.append(times[i])\n",
    "    \n",
    "    return timesPeaks"
   ]
  },
  {
   "cell_type": "code",
   "execution_count": 14,
   "metadata": {},
   "outputs": [],
   "source": [
    "def fibonacci_hash_float(value:float, rand = False, hash_size = 15):\n",
    "\n",
    "    value = BitArray(float=value, length=64)\n",
    "    phi = (1 + 5 ** 0.5) / 2\n",
    "    g = int(2 ** 64 /phi)\n",
    "\n",
    "\n",
    "    value ^= value >> 61\n",
    "\n",
    "    if(rand):\n",
    "        value = int(g * value.float * np.random.random_sample(1))\n",
    "    else:\n",
    "        value = int(g * value.float)\n",
    "\n",
    "    return int(str(value)[0:hash_size])"
   ]
  },
  {
   "cell_type": "code",
   "execution_count": 15,
   "metadata": {},
   "outputs": [],
   "source": [
    "class HashTable:\n",
    "    def __init__(self):\n",
    "        self.hash_table = defaultdict(list)\n",
    "        \n",
    "    def generate_hash(self, inp_vector):\n",
    "        hashVal = \"\".join(inp_vector)\n",
    "        return hashVal\n",
    "            \n",
    "    def setitem(self, vec, label):\n",
    "        val = self.generate_hash(vec)\n",
    "        self.hash_table[val].append(label)\n",
    "        \n",
    "    def setTable(self, dic):\n",
    "        \n",
    "        for i in dic:\n",
    "            self.hash_table[self.generate_hash(dic[i])].append(i)\n",
    "        \n",
    "    def getitem(self, inp_vec):\n",
    "        hash_value = self.generate_hash(inp_vec)\n",
    "        return self.hash_table.get(hash_value, [])\n",
    "    \n",
    "    def getTable(self):\n",
    "        return(self.hash_table)"
   ]
  },
  {
   "cell_type": "code",
   "execution_count": 16,
   "metadata": {},
   "outputs": [],
   "source": [
    "class LSH:\n",
    "    def __init__(self, num_tables, threshold, b):\n",
    "        assert num_tables == threshold//b, \"The number of table must be equals to threshold // band\"\n",
    "        self.num_tables = num_tables\n",
    "        self.band = b\n",
    "        self.threshold = threshold\n",
    "        self.hash_tables = list()\n",
    "        for i in range(self.num_tables):\n",
    "            self.hash_tables.append(HashTable())\n",
    "        \n",
    "            \n",
    "    def minhash(self, matrix, labels):\n",
    "        matrix = np.array(matrix)\n",
    "        out = defaultdict(lambda: defaultdict(list))\n",
    "        \n",
    "        for i in tqdm(range(0,self.threshold)):\n",
    "            \n",
    "            if(matrix.shape[0] != 1):\n",
    "\n",
    "                np.random.shuffle(matrix)\n",
    "\n",
    "                for col, name in zip(matrix.T, labels):\n",
    "\n",
    "                    out[i//self.band][name].append((str((col!=0).argmax(axis=0))))\n",
    "\n",
    "            else:\n",
    "                np.random.shuffle(matrix.T)\n",
    "\n",
    "                for idx, el in enumerate(matrix.T):\n",
    "                    if(el != 0):\n",
    "                        out[i//self.band][labels[0]].append(str(idx))\n",
    "\n",
    "                        break\n",
    "\n",
    "        for key, table in zip(out, self.hash_tables):\n",
    "            table.setTable(out[key])\n",
    "\n",
    "\n",
    "    def info(self):\n",
    "        print(\"Numero di tabelle: \" + str(self.num_tables))\n",
    "        print(\"Elementi per tabella: \" + str(len(self.hash_tables[0].hash_table)))"
   ]
  },
  {
   "cell_type": "code",
   "execution_count": 43,
   "metadata": {},
   "outputs": [],
   "source": [
    "def make_fingerprints(audio, duration, hop):\n",
    "    track, sr, onset_env, peaks = load_audio_picks(audio, DURATION, HOP_SIZE)\n",
    "    times = librosa.frames_to_time(np.arange(len(onset_env)), sr=sr, hop_length=HOP_SIZE)\n",
    "    timesPeaks = timeOfPeaks(peaks, times)\n",
    "    freqsP = [onset_env[i] for i in peaks]\n",
    "\n",
    "    fingerprints = []\n",
    "    sec = hop\n",
    "    time=0\n",
    "    count=0\n",
    "    while(sec <= duration):\n",
    "\n",
    "        idx = 0\n",
    "        hashVal = 0\n",
    "        count += 1\n",
    "\n",
    "        while(time <=sec):\n",
    "            \n",
    "            if(timesPeaks[idx] < sec and timesPeaks[idx] > time):\n",
    "                hashVal ^= fibonacci_hash_float(freqsP[idx]) ^ hashVal\n",
    "                \n",
    "\n",
    "            time = timesPeaks[idx]\n",
    "           \n",
    "            if(idx+1 < len(freqsP)):\n",
    "                idx += 1\n",
    "            else:\n",
    "                break\n",
    "        \n",
    "        fingerprints.append(hashVal)\n",
    "        \n",
    "        sec += hop\n",
    "        \n",
    "    fingerprints = list(filter(lambda a: a != 0, fingerprints))\n",
    "   \n",
    "    return fingerprints"
   ]
  },
  {
   "cell_type": "code",
   "execution_count": 71,
   "metadata": {},
   "outputs": [],
   "source": [
    "def make_vocabulary_of_fingerprints(songs):\n",
    "    \n",
    "    voc = dict()\n",
    "    tempList = list()\n",
    "    \n",
    "    with Pool(multiprocessing.cpu_count()) as pool:\n",
    "       \n",
    "         with tqdm(total = 1413) as pbar:\n",
    "            for i, el in enumerate(pool.imap(lambda song: make_fingerprints(song, 30, 0.5), songs)):\n",
    "                tempList.extend(el)\n",
    "                pbar.update()\n",
    "                \n",
    "    for fin in tempList:\n",
    "        voc[fin] = []\n",
    "        \n",
    "    save_object(voc, \"./data/vocabulary_of_fingerprints.plk\")\n"
   ]
  },
  {
   "cell_type": "code",
   "execution_count": 126,
   "metadata": {},
   "outputs": [],
   "source": [
    "def make_signature_matrix(songs,  numberOfSongs = 1413):\n",
    "    \n",
    "    tempList = []\n",
    "    matrix_sig = []\n",
    "    voc = read_object(\"./data/vocabulary_of_fingerprints.plk\")\n",
    "\n",
    "    \n",
    "    if(isinstance(songs, str)):\n",
    "        \n",
    "        tempList = make_fingerprints(song, 30,0.5)\n",
    "        \n",
    "        for fig in tempList:\n",
    "            voc[fig].append(1)\n",
    "            \n",
    "        for k in voc:\n",
    "            matrix_sig.extend(voc[k])\n",
    "        \n",
    "    else:\n",
    "\n",
    "        for key in voc:\n",
    "            voc[key] = list(np.zeros(numberOfSongs, dtype=\"int\"))\n",
    "\n",
    "        with Pool(multiprocessing.cpu_count()) as pool:\n",
    "\n",
    "            with tqdm(total = numberOfSongs) as pbar:\n",
    "                for i, el in enumerate(pool.imap(lambda song: make_fingerprints(song, 30, 0.5), songs)):\n",
    "                    tempList.append(el)\n",
    "                    pbar.update()\n",
    "\n",
    "\n",
    "        for idx, song in enumerate(tempList):\n",
    "            for fin in song:\n",
    "                voc[fin][idx] = 1\n",
    "                \n",
    "        for k in voc:\n",
    "            matrix_sig.append(voc[k])\n",
    "\n",
    "        save_object(matrix_sig, \"./data/signature_matrix.plk\")\n",
    "    \n",
    "    return voc"
   ]
  },
  {
   "cell_type": "code",
   "execution_count": null,
   "metadata": {},
   "outputs": [
    {
     "data": {
      "application/vnd.jupyter.widget-view+json": {
       "model_id": "bf95ff1f35fd4bcfa2ca48415be20675",
       "version_major": 2,
       "version_minor": 0
      },
      "text/plain": [
       "  0%|          | 0/1413 [00:00<?, ?it/s]"
      ]
     },
     "metadata": {},
     "output_type": "display_data"
    }
   ],
   "source": [
    "make_signature_matrix(songs)"
   ]
  },
  {
   "cell_type": "code",
   "execution_count": 122,
   "metadata": {},
   "outputs": [],
   "source": [
    "def populate_LSH(songs):\n",
    "    \n",
    "    lsh = LSH(50, 150, 3)\n",
    "    \n",
    "    if(len(songs) != 1):\n",
    "   \n",
    "        matrix_sig = read_object(\"./data/signature_matrix.plk\")\n",
    "        \n",
    "        lsh.minhash(matrix_sig, songs)\n",
    "            \n",
    "    else:\n",
    "        vector_sig = make_signature_matrix(songs[0])\n",
    "\n",
    "        lsh.minhash([fingerprint], songs)\n",
    "        \n",
    "    return lsh"
   ]
  },
  {
   "cell_type": "code",
   "execution_count": 21,
   "metadata": {},
   "outputs": [],
   "source": [
    "def searchForCollision(lsh, lsh_q):\n",
    "    match = list()\n",
    "    \n",
    "    for table, tableq in zip(lsh.hash_tables, lsh_q.hash_tables):\n",
    "        \n",
    "        match.extend(table.hash_table.get([*tableq.hash_table.keys()][0], [\"NA\"]))\n",
    "        \n",
    "    match = list(filter(lambda a: a != \"NA\", match))\n",
    "    \n",
    "    try:\n",
    "        prob = Counter(match).most_common(1)[0][1] / len(match)\n",
    "    except IndexError:\n",
    "        print(\"No match found\")\n",
    "        return None\n",
    "    \n",
    "    return [Counter(match).most_common(3), prob]"
   ]
  },
  {
   "cell_type": "code",
   "execution_count": 123,
   "metadata": {},
   "outputs": [
    {
     "data": {
      "application/vnd.jupyter.widget-view+json": {
       "model_id": "2535892cf154408dbf54edeb0c2950f4",
       "version_major": 2,
       "version_minor": 0
      },
      "text/plain": [
       "  0%|          | 0/150 [00:00<?, ?it/s]"
      ]
     },
     "metadata": {},
     "output_type": "display_data"
    },
    {
     "ename": "IndexError",
     "evalue": "tuple index out of range",
     "output_type": "error",
     "traceback": [
      "\u001b[0;31m---------------------------------------------------------------------------\u001b[0m",
      "\u001b[0;31mIndexError\u001b[0m                                Traceback (most recent call last)",
      "\u001b[0;32m<ipython-input-123-b2fc910a8732>\u001b[0m in \u001b[0;36m<module>\u001b[0;34m\u001b[0m\n\u001b[0;32m----> 1\u001b[0;31m \u001b[0mlsh\u001b[0m \u001b[0;34m=\u001b[0m \u001b[0mpopulate_LSH\u001b[0m\u001b[0;34m(\u001b[0m\u001b[0msongs\u001b[0m\u001b[0;34m)\u001b[0m\u001b[0;34m\u001b[0m\u001b[0;34m\u001b[0m\u001b[0m\n\u001b[0m\u001b[1;32m      2\u001b[0m \u001b[0msave_object\u001b[0m\u001b[0;34m(\u001b[0m\u001b[0mlsh\u001b[0m\u001b[0;34m,\u001b[0m \u001b[0;34m\"./data/lsh_50_150_3(0.3).pkl\"\u001b[0m\u001b[0;34m)\u001b[0m\u001b[0;34m\u001b[0m\u001b[0;34m\u001b[0m\u001b[0m\n\u001b[1;32m      3\u001b[0m \u001b[0;31m#lsh = read_object(\"./data/lsh_15_150_10(0.3).pkl\")\u001b[0m\u001b[0;34m\u001b[0m\u001b[0;34m\u001b[0m\u001b[0;34m\u001b[0m\u001b[0m\n\u001b[1;32m      4\u001b[0m \u001b[0mlsh_q\u001b[0m \u001b[0;34m=\u001b[0m \u001b[0mpopulate_LSH\u001b[0m\u001b[0;34m(\u001b[0m\u001b[0;34m[\u001b[0m\u001b[0;34m'data/mp3s-32k/radiohead/Amnesiac/06-Knives_Out.wav'\u001b[0m\u001b[0;34m]\u001b[0m\u001b[0;34m)\u001b[0m\u001b[0;34m\u001b[0m\u001b[0;34m\u001b[0m\u001b[0m\n\u001b[1;32m      5\u001b[0m \u001b[0mout\u001b[0m \u001b[0;34m=\u001b[0m \u001b[0msearchForCollision\u001b[0m\u001b[0;34m(\u001b[0m\u001b[0mlsh\u001b[0m\u001b[0;34m,\u001b[0m \u001b[0mlsh_q\u001b[0m\u001b[0;34m)\u001b[0m\u001b[0;34m\u001b[0m\u001b[0;34m\u001b[0m\u001b[0m\n",
      "\u001b[0;32m<ipython-input-122-e3167b264266>\u001b[0m in \u001b[0;36mpopulate_LSH\u001b[0;34m(songs)\u001b[0m\n\u001b[1;32m      7\u001b[0m         \u001b[0mmatrix_sig\u001b[0m \u001b[0;34m=\u001b[0m \u001b[0mread_object\u001b[0m\u001b[0;34m(\u001b[0m\u001b[0;34m\"./data/signature_matrix.plk\"\u001b[0m\u001b[0;34m)\u001b[0m\u001b[0;34m\u001b[0m\u001b[0;34m\u001b[0m\u001b[0m\n\u001b[1;32m      8\u001b[0m \u001b[0;34m\u001b[0m\u001b[0m\n\u001b[0;32m----> 9\u001b[0;31m         \u001b[0mlsh\u001b[0m\u001b[0;34m.\u001b[0m\u001b[0mminhash\u001b[0m\u001b[0;34m(\u001b[0m\u001b[0mmatrix_sig\u001b[0m\u001b[0;34m,\u001b[0m \u001b[0msongs\u001b[0m\u001b[0;34m)\u001b[0m\u001b[0;34m\u001b[0m\u001b[0;34m\u001b[0m\u001b[0m\n\u001b[0m\u001b[1;32m     10\u001b[0m \u001b[0;34m\u001b[0m\u001b[0m\n\u001b[1;32m     11\u001b[0m     \u001b[0;32melse\u001b[0m\u001b[0;34m:\u001b[0m\u001b[0;34m\u001b[0m\u001b[0;34m\u001b[0m\u001b[0m\n",
      "\u001b[0;32m<ipython-input-16-271dc310a62d>\u001b[0m in \u001b[0;36mminhash\u001b[0;34m(self, matrix, labels)\u001b[0m\n\u001b[1;32m     16\u001b[0m         \u001b[0;32mfor\u001b[0m \u001b[0mi\u001b[0m \u001b[0;32min\u001b[0m \u001b[0mtqdm\u001b[0m\u001b[0;34m(\u001b[0m\u001b[0mrange\u001b[0m\u001b[0;34m(\u001b[0m\u001b[0;36m0\u001b[0m\u001b[0;34m,\u001b[0m\u001b[0mself\u001b[0m\u001b[0;34m.\u001b[0m\u001b[0mthreshold\u001b[0m\u001b[0;34m)\u001b[0m\u001b[0;34m)\u001b[0m\u001b[0;34m:\u001b[0m\u001b[0;34m\u001b[0m\u001b[0;34m\u001b[0m\u001b[0m\n\u001b[1;32m     17\u001b[0m \u001b[0;34m\u001b[0m\u001b[0m\n\u001b[0;32m---> 18\u001b[0;31m             \u001b[0;32mif\u001b[0m\u001b[0;34m(\u001b[0m\u001b[0mmatrix\u001b[0m\u001b[0;34m.\u001b[0m\u001b[0mshape\u001b[0m\u001b[0;34m[\u001b[0m\u001b[0;36m0\u001b[0m\u001b[0;34m]\u001b[0m \u001b[0;34m!=\u001b[0m \u001b[0;36m1\u001b[0m\u001b[0;34m)\u001b[0m\u001b[0;34m:\u001b[0m\u001b[0;34m\u001b[0m\u001b[0;34m\u001b[0m\u001b[0m\n\u001b[0m\u001b[1;32m     19\u001b[0m \u001b[0;34m\u001b[0m\u001b[0m\n\u001b[1;32m     20\u001b[0m                 \u001b[0mnp\u001b[0m\u001b[0;34m.\u001b[0m\u001b[0mrandom\u001b[0m\u001b[0;34m.\u001b[0m\u001b[0mshuffle\u001b[0m\u001b[0;34m(\u001b[0m\u001b[0mmatrix\u001b[0m\u001b[0;34m)\u001b[0m\u001b[0;34m\u001b[0m\u001b[0;34m\u001b[0m\u001b[0m\n",
      "\u001b[0;31mIndexError\u001b[0m: tuple index out of range"
     ]
    }
   ],
   "source": [
    "lsh = populate_LSH(songs)\n",
    "save_object(lsh, \"./data/lsh_50_150_3(0.3).pkl\")\n",
    "#lsh = read_object(\"./data/lsh_15_150_10(0.3).pkl\")\n",
    "lsh_q = populate_LSH(['data/mp3s-32k/radiohead/Amnesiac/06-Knives_Out.wav'])\n",
    "out = searchForCollision(lsh, lsh_q)\n",
    "out"
   ]
  },
  {
   "cell_type": "code",
   "execution_count": 23,
   "metadata": {},
   "outputs": [
    {
     "name": "stdout",
     "output_type": "stream",
     "text": [
      "Numero di tabelle: 50\n",
      "Elementi per tabella: 229\n"
     ]
    }
   ],
   "source": [
    "lsh.info()"
   ]
  },
  {
   "cell_type": "code",
   "execution_count": 31,
   "metadata": {},
   "outputs": [
    {
     "name": "stdout",
     "output_type": "stream",
     "text": [
      "defaultdict(<class 'list'>, {'710': ['data/mp3s-32k/radiohead/Amnesiac/06-Knives_Out.wav']})\n",
      "defaultdict(<class 'list'>, {'000': ['data/mp3s-32k/radiohead/Amnesiac/06-Knives_Out.wav']})\n",
      "defaultdict(<class 'list'>, {'010': ['data/mp3s-32k/radiohead/Amnesiac/06-Knives_Out.wav']})\n",
      "defaultdict(<class 'list'>, {'021': ['data/mp3s-32k/radiohead/Amnesiac/06-Knives_Out.wav']})\n",
      "defaultdict(<class 'list'>, {'101': ['data/mp3s-32k/radiohead/Amnesiac/06-Knives_Out.wav']})\n",
      "defaultdict(<class 'list'>, {'030': ['data/mp3s-32k/radiohead/Amnesiac/06-Knives_Out.wav']})\n",
      "defaultdict(<class 'list'>, {'011': ['data/mp3s-32k/radiohead/Amnesiac/06-Knives_Out.wav']})\n",
      "defaultdict(<class 'list'>, {'000': ['data/mp3s-32k/radiohead/Amnesiac/06-Knives_Out.wav']})\n",
      "defaultdict(<class 'list'>, {'104': ['data/mp3s-32k/radiohead/Amnesiac/06-Knives_Out.wav']})\n",
      "defaultdict(<class 'list'>, {'000': ['data/mp3s-32k/radiohead/Amnesiac/06-Knives_Out.wav']})\n",
      "defaultdict(<class 'list'>, {'000': ['data/mp3s-32k/radiohead/Amnesiac/06-Knives_Out.wav']})\n",
      "defaultdict(<class 'list'>, {'000': ['data/mp3s-32k/radiohead/Amnesiac/06-Knives_Out.wav']})\n",
      "defaultdict(<class 'list'>, {'011': ['data/mp3s-32k/radiohead/Amnesiac/06-Knives_Out.wav']})\n",
      "defaultdict(<class 'list'>, {'101': ['data/mp3s-32k/radiohead/Amnesiac/06-Knives_Out.wav']})\n",
      "defaultdict(<class 'list'>, {'101': ['data/mp3s-32k/radiohead/Amnesiac/06-Knives_Out.wav']})\n",
      "defaultdict(<class 'list'>, {'011': ['data/mp3s-32k/radiohead/Amnesiac/06-Knives_Out.wav']})\n",
      "defaultdict(<class 'list'>, {'220': ['data/mp3s-32k/radiohead/Amnesiac/06-Knives_Out.wav']})\n",
      "defaultdict(<class 'list'>, {'140': ['data/mp3s-32k/radiohead/Amnesiac/06-Knives_Out.wav']})\n",
      "defaultdict(<class 'list'>, {'000': ['data/mp3s-32k/radiohead/Amnesiac/06-Knives_Out.wav']})\n",
      "defaultdict(<class 'list'>, {'000': ['data/mp3s-32k/radiohead/Amnesiac/06-Knives_Out.wav']})\n",
      "defaultdict(<class 'list'>, {'021': ['data/mp3s-32k/radiohead/Amnesiac/06-Knives_Out.wav']})\n",
      "defaultdict(<class 'list'>, {'010': ['data/mp3s-32k/radiohead/Amnesiac/06-Knives_Out.wav']})\n",
      "defaultdict(<class 'list'>, {'000': ['data/mp3s-32k/radiohead/Amnesiac/06-Knives_Out.wav']})\n",
      "defaultdict(<class 'list'>, {'224': ['data/mp3s-32k/radiohead/Amnesiac/06-Knives_Out.wav']})\n",
      "defaultdict(<class 'list'>, {'200': ['data/mp3s-32k/radiohead/Amnesiac/06-Knives_Out.wav']})\n",
      "defaultdict(<class 'list'>, {'001': ['data/mp3s-32k/radiohead/Amnesiac/06-Knives_Out.wav']})\n",
      "defaultdict(<class 'list'>, {'001': ['data/mp3s-32k/radiohead/Amnesiac/06-Knives_Out.wav']})\n",
      "defaultdict(<class 'list'>, {'220': ['data/mp3s-32k/radiohead/Amnesiac/06-Knives_Out.wav']})\n",
      "defaultdict(<class 'list'>, {'010': ['data/mp3s-32k/radiohead/Amnesiac/06-Knives_Out.wav']})\n",
      "defaultdict(<class 'list'>, {'203': ['data/mp3s-32k/radiohead/Amnesiac/06-Knives_Out.wav']})\n",
      "defaultdict(<class 'list'>, {'060': ['data/mp3s-32k/radiohead/Amnesiac/06-Knives_Out.wav']})\n",
      "defaultdict(<class 'list'>, {'010': ['data/mp3s-32k/radiohead/Amnesiac/06-Knives_Out.wav']})\n",
      "defaultdict(<class 'list'>, {'302': ['data/mp3s-32k/radiohead/Amnesiac/06-Knives_Out.wav']})\n",
      "defaultdict(<class 'list'>, {'232': ['data/mp3s-32k/radiohead/Amnesiac/06-Knives_Out.wav']})\n",
      "defaultdict(<class 'list'>, {'101': ['data/mp3s-32k/radiohead/Amnesiac/06-Knives_Out.wav']})\n",
      "defaultdict(<class 'list'>, {'112': ['data/mp3s-32k/radiohead/Amnesiac/06-Knives_Out.wav']})\n",
      "defaultdict(<class 'list'>, {'105': ['data/mp3s-32k/radiohead/Amnesiac/06-Knives_Out.wav']})\n",
      "defaultdict(<class 'list'>, {'000': ['data/mp3s-32k/radiohead/Amnesiac/06-Knives_Out.wav']})\n",
      "defaultdict(<class 'list'>, {'024': ['data/mp3s-32k/radiohead/Amnesiac/06-Knives_Out.wav']})\n",
      "defaultdict(<class 'list'>, {'500': ['data/mp3s-32k/radiohead/Amnesiac/06-Knives_Out.wav']})\n",
      "defaultdict(<class 'list'>, {'100': ['data/mp3s-32k/radiohead/Amnesiac/06-Knives_Out.wav']})\n",
      "defaultdict(<class 'list'>, {'020': ['data/mp3s-32k/radiohead/Amnesiac/06-Knives_Out.wav']})\n",
      "defaultdict(<class 'list'>, {'120': ['data/mp3s-32k/radiohead/Amnesiac/06-Knives_Out.wav']})\n",
      "defaultdict(<class 'list'>, {'302': ['data/mp3s-32k/radiohead/Amnesiac/06-Knives_Out.wav']})\n",
      "defaultdict(<class 'list'>, {'035': ['data/mp3s-32k/radiohead/Amnesiac/06-Knives_Out.wav']})\n",
      "defaultdict(<class 'list'>, {'131': ['data/mp3s-32k/radiohead/Amnesiac/06-Knives_Out.wav']})\n",
      "defaultdict(<class 'list'>, {'401': ['data/mp3s-32k/radiohead/Amnesiac/06-Knives_Out.wav']})\n",
      "defaultdict(<class 'list'>, {'135': ['data/mp3s-32k/radiohead/Amnesiac/06-Knives_Out.wav']})\n",
      "defaultdict(<class 'list'>, {'100': ['data/mp3s-32k/radiohead/Amnesiac/06-Knives_Out.wav']})\n",
      "defaultdict(<class 'list'>, {'001': ['data/mp3s-32k/radiohead/Amnesiac/06-Knives_Out.wav']})\n"
     ]
    }
   ],
   "source": [
    "for i in lsh_q.hash_tables:\n",
    "    print(i.hash_table)"
   ]
  },
  {
   "cell_type": "code",
   "execution_count": 25,
   "metadata": {},
   "outputs": [
    {
     "data": {
      "text/plain": [
       "defaultdict(list,\n",
       "            {'000': [PosixPath('data/mp3s-32k/radiohead/Amnesiac/10-Like_Spinning_Plates.wav'),\n",
       "              PosixPath('data/mp3s-32k/radiohead/Amnesiac/04-You_and_Whose_Army.wav'),\n",
       "              PosixPath('data/mp3s-32k/radiohead/Amnesiac/09-Hunting_Bears.wav'),\n",
       "              PosixPath('data/mp3s-32k/garth_brooks/Garth_Brooks_The_Limited_Series_/06-Alabama_Clay.wav'),\n",
       "              PosixPath('data/mp3s-32k/garth_brooks/Ropin_The_Wind_The_Limited_Series_/04-Burning_Bridges.wav'),\n",
       "              PosixPath('data/mp3s-32k/garth_brooks/The_Chase/01-We_Shall_Be_Free.wav'),\n",
       "              PosixPath('data/mp3s-32k/garth_brooks/The_Chase/02-Somewhere_Other_Than_The_Night.wav'),\n",
       "              PosixPath('data/mp3s-32k/garth_brooks/The_Chase/10-Night_Rider_s_Lament.wav'),\n",
       "              PosixPath('data/mp3s-32k/cure/Disintegration/11-Homesick.wav')],\n",
       "             '4910375': [PosixPath('data/mp3s-32k/radiohead/Amnesiac/08-Dollars_and_Cents.wav')],\n",
       "             '17814': [PosixPath('data/mp3s-32k/radiohead/Amnesiac/03-Pilk_Pull_Revolving_Doors.wav')],\n",
       "             '161420': [PosixPath('data/mp3s-32k/radiohead/Amnesiac/05-I_Might_Be_Wrong.wav')],\n",
       "             '2233': [PosixPath('data/mp3s-32k/radiohead/Amnesiac/11-Life_In_A_Glasshouse.wav')],\n",
       "             '01823': [PosixPath('data/mp3s-32k/radiohead/Amnesiac/01-Packt_Like_Sardines_In_A_Crush.wav')],\n",
       "             '5813': [PosixPath('data/mp3s-32k/radiohead/Amnesiac/02-Pyramid_Song.wav')],\n",
       "             '1158': [PosixPath('data/mp3s-32k/radiohead/Amnesiac/06-Knives_Out.wav')],\n",
       "             '001': [PosixPath('data/mp3s-32k/radiohead/Amnesiac/07-Morning_Bell_Amnesiac.wav'),\n",
       "              PosixPath('data/mp3s-32k/fleetwood_mac/Behind_the_Mask/11-Freedom.wav'),\n",
       "              PosixPath('data/mp3s-32k/fleetwood_mac/Fleetwood_Mac/11-I_m_So_Afraid.wav'),\n",
       "              PosixPath('data/mp3s-32k/queen/Jazz/15-Bicycle_Race_1991_Remix_.wav'),\n",
       "              PosixPath('data/mp3s-32k/garth_brooks/No_Fences_The_Limited_Series_/09-Same_Old_Story.wav'),\n",
       "              PosixPath('data/mp3s-32k/garth_brooks/Fresh_Horses_2000/05-Rollin_.wav')],\n",
       "             '31118': [PosixPath('data/mp3s-32k/radiohead/Hail_to_the_Theif/11-A_Punchup_at_a_Wedding.wav')],\n",
       "             '1151': [PosixPath('data/mp3s-32k/radiohead/Hail_to_the_Theif/01-2_2_5_The_Lukewarm_.wav')],\n",
       "             '013': [PosixPath('data/mp3s-32k/radiohead/Hail_to_the_Theif/12-Myxomatosis.wav'),\n",
       "              PosixPath('data/mp3s-32k/radiohead/Hail_to_the_Theif/13-Scatterbrain.wav'),\n",
       "              PosixPath('data/mp3s-32k/queen/Sheer_Heart_Attack/03-Tenement_Funster.wav')],\n",
       "             '142': [PosixPath('data/mp3s-32k/radiohead/Hail_to_the_Theif/02-Sit_Down_Stand_Up.wav')],\n",
       "             '261': [PosixPath('data/mp3s-32k/radiohead/Hail_to_the_Theif/08-The_Gloaming.wav')],\n",
       "             '1331': [PosixPath('data/mp3s-32k/radiohead/Hail_to_the_Theif/14-A_Wolf_at_the_Door.wav')],\n",
       "             '149': [PosixPath('data/mp3s-32k/radiohead/Hail_to_the_Theif/09-There_There.wav')],\n",
       "             '053': [PosixPath('data/mp3s-32k/radiohead/Hail_to_the_Theif/10-I_Will.wav')],\n",
       "             '8171': [PosixPath('data/mp3s-32k/radiohead/Hail_to_the_Theif/05-Go_to_Sleep.wav')],\n",
       "             '128': [PosixPath('data/mp3s-32k/radiohead/Hail_to_the_Theif/04-Backdrifts.wav')],\n",
       "             '0101': [PosixPath('data/mp3s-32k/radiohead/Hail_to_the_Theif/06-Where_I_End_and_You_Begin.wav')],\n",
       "             '242': [PosixPath('data/mp3s-32k/radiohead/Hail_to_the_Theif/03-Sail_to_the_Moon.wav')],\n",
       "             '368': [PosixPath('data/mp3s-32k/radiohead/Hail_to_the_Theif/07-We_Suck_Young_Blood.wav')],\n",
       "             '071': [PosixPath('data/mp3s-32k/radiohead/OK_Computer/11-Lucky.wav')],\n",
       "             '529': [PosixPath('data/mp3s-32k/radiohead/OK_Computer/05-Let_Down.wav')],\n",
       "             '6116': [PosixPath('data/mp3s-32k/radiohead/OK_Computer/07-Fitter_Happier.wav')],\n",
       "             '274': [PosixPath('data/mp3s-32k/radiohead/OK_Computer/01-Airbag.wav')],\n",
       "             '153': [PosixPath('data/mp3s-32k/radiohead/OK_Computer/08-Electioneering.wav'),\n",
       "              PosixPath('data/mp3s-32k/radiohead/Kid_A/03-The_National_Anthem.wav')],\n",
       "             '461': [PosixPath('data/mp3s-32k/radiohead/OK_Computer/12-The_Tourist.wav')],\n",
       "             '106': [PosixPath('data/mp3s-32k/radiohead/OK_Computer/09-Climbing_Up_The_Walls.wav')],\n",
       "             '0172': [PosixPath('data/mp3s-32k/radiohead/OK_Computer/04-Exit_Music_for_a_film_.wav')],\n",
       "             '518': [PosixPath('data/mp3s-32k/radiohead/OK_Computer/03-Subterranean_Homesick_Alien.wav')],\n",
       "             '172': [PosixPath('data/mp3s-32k/radiohead/OK_Computer/10-No_Surprises.wav')],\n",
       "             '321': [PosixPath('data/mp3s-32k/radiohead/OK_Computer/06-Karma_Police.wav')],\n",
       "             '906': [PosixPath('data/mp3s-32k/radiohead/OK_Computer/02-Paranoid_Android.wav')],\n",
       "             '4612': [PosixPath('data/mp3s-32k/radiohead/The_Bends/08-My_Iron_Lung.wav'),\n",
       "              PosixPath('data/mp3s-32k/queen/A_Night_At_the_Opera/10-Good_Company.wav')],\n",
       "             '0173': [PosixPath('data/mp3s-32k/radiohead/The_Bends/05-Bones.wav')],\n",
       "             '108': [PosixPath('data/mp3s-32k/radiohead/The_Bends/10-Black_Star.wav'),\n",
       "              PosixPath('data/mp3s-32k/garth_brooks/Fresh_Horses_2000/08-To_Make_You_Feel_My_Love.wav')],\n",
       "             '8121': [PosixPath('data/mp3s-32k/radiohead/The_Bends/11-Sulk.wav')],\n",
       "             '012': [PosixPath('data/mp3s-32k/radiohead/The_Bends/04-Fake_Plastic_Trees.wav')],\n",
       "             '123': [PosixPath('data/mp3s-32k/radiohead/The_Bends/03-High_And_Dry.wav')],\n",
       "             '3617': [PosixPath('data/mp3s-32k/radiohead/The_Bends/07-Just.wav')],\n",
       "             '043': [PosixPath('data/mp3s-32k/radiohead/The_Bends/06-_Nice_Dream_.wav'),\n",
       "              PosixPath('data/mp3s-32k/queen/News_Of_The_World/05-Spread_Your_Wings.wav'),\n",
       "              PosixPath('data/mp3s-32k/queen/A_Night_At_the_Opera/03-I_m_In_Love_With_My_Car.wav')],\n",
       "             '511': [PosixPath('data/mp3s-32k/radiohead/The_Bends/09-Bullet_Proof_I_Wish_I_Was.wav')],\n",
       "             '104': [PosixPath('data/mp3s-32k/radiohead/The_Bends/02-The_Bends.wav'),\n",
       "              PosixPath('data/mp3s-32k/garth_brooks/Fresh_Horses_2000/02-Cowboys_and_Angels.wav'),\n",
       "              PosixPath('data/mp3s-32k/garth_brooks/Ropin_The_Wind_The_Limited_Series_/05-Which_One_Of_Them.wav')],\n",
       "             '2142': [PosixPath('data/mp3s-32k/radiohead/The_Bends/01-Planet_Telex.wav')],\n",
       "             '0410': [PosixPath('data/mp3s-32k/radiohead/The_Bends/12-Street_Spirit_Fade_Out_.wav')],\n",
       "             '717': [PosixPath('data/mp3s-32k/radiohead/Kid_A/11-Genchildren_hidden_.wav')],\n",
       "             '0251': [PosixPath('data/mp3s-32k/radiohead/Kid_A/06-Optimistic.wav')],\n",
       "             '537': [PosixPath('data/mp3s-32k/radiohead/Kid_A/02-Kid_A.wav'),\n",
       "              PosixPath('data/mp3s-32k/radiohead/Kid_A/08-Idioteque.wav')],\n",
       "             '1111': [PosixPath('data/mp3s-32k/radiohead/Kid_A/07-In_Limbo.wav')],\n",
       "             '1802': [PosixPath('data/mp3s-32k/radiohead/Kid_A/10-Motion_Picture_Soundtrack_trimmed_.wav')],\n",
       "             '241': [PosixPath('data/mp3s-32k/radiohead/Kid_A/09-Morning_Bell.wav'),\n",
       "              PosixPath('data/mp3s-32k/queen/Sheer_Heart_Attack/08-Stone_Cold_Crazy.wav')],\n",
       "             '0213': [PosixPath('data/mp3s-32k/radiohead/Kid_A/05-Treefingers.wav')],\n",
       "             '2214': [PosixPath('data/mp3s-32k/radiohead/Kid_A/04-How_To_Disappear_Completely.wav')],\n",
       "             '479': [PosixPath('data/mp3s-32k/radiohead/Kid_A/01-Everything_In_Its_Right_Place.wav')],\n",
       "             '0103': [PosixPath('data/mp3s-32k/radiohead/Pablo_Honey/13-Creep_Radio_Edit_.wav')],\n",
       "             '101': [PosixPath('data/mp3s-32k/radiohead/Pablo_Honey/03-How_Do_You_.wav'),\n",
       "              PosixPath('data/mp3s-32k/queen/The_Works/02-Tear_It_Up.wav'),\n",
       "              PosixPath('data/mp3s-32k/queen/The_Game/07-Don_t_Try_Suicide.wav'),\n",
       "              PosixPath('data/mp3s-32k/queen/Jazz/09-Dreamers_Ball.wav'),\n",
       "              PosixPath('data/mp3s-32k/garth_brooks/In_Pieces/02-The_Night_I_Called_The_Old_Man_Out.wav'),\n",
       "              PosixPath('data/mp3s-32k/garth_brooks/No_Fences_The_Limited_Series_/03-Two_Of_A_Kind_Workin_On_A_Full_House.wav')],\n",
       "             '10128': [PosixPath('data/mp3s-32k/radiohead/Pablo_Honey/06-Anyone_Can_Play_Guitar.wav')],\n",
       "             '051': [PosixPath('data/mp3s-32k/radiohead/Pablo_Honey/02-Creep.wav')],\n",
       "             '164': [PosixPath('data/mp3s-32k/radiohead/Pablo_Honey/11-Lurgee.wav')],\n",
       "             '311': [PosixPath('data/mp3s-32k/radiohead/Pablo_Honey/12-Blow_Out.wav'),\n",
       "              PosixPath('data/mp3s-32k/queen/News_Of_The_World/07-Get_Down_Make_Love.wav')],\n",
       "             '473': [PosixPath('data/mp3s-32k/radiohead/Pablo_Honey/08-Vegetable.wav')],\n",
       "             '046': [PosixPath('data/mp3s-32k/radiohead/Pablo_Honey/07-Ripcord.wav')],\n",
       "             '138': [PosixPath('data/mp3s-32k/radiohead/Pablo_Honey/05-Thinking_About_You.wav')],\n",
       "             '402': [PosixPath('data/mp3s-32k/radiohead/Pablo_Honey/10-I_Can_t.wav')],\n",
       "             '054': [PosixPath('data/mp3s-32k/radiohead/Pablo_Honey/01-You.wav')],\n",
       "             '131': [PosixPath('data/mp3s-32k/radiohead/Pablo_Honey/04-Stop_Whispering.wav'),\n",
       "              PosixPath('data/mp3s-32k/fleetwood_mac/Behind_the_Mask/03-In_the_Back_of_My_Mind.wav')],\n",
       "             '802': [PosixPath('data/mp3s-32k/radiohead/Pablo_Honey/09-Prove_Yourself.wav')],\n",
       "             '016': [PosixPath('data/mp3s-32k/fleetwood_mac/Behind_the_Mask/06-Affairs_of_the_Heart.wav')],\n",
       "             '1314': [PosixPath('data/mp3s-32k/fleetwood_mac/Behind_the_Mask/04-Do_You_Know.wav')],\n",
       "             '4103': [PosixPath('data/mp3s-32k/fleetwood_mac/Behind_the_Mask/02-Love_Is_Dangerous.wav')],\n",
       "             '818': [PosixPath('data/mp3s-32k/fleetwood_mac/Behind_the_Mask/12-When_It_Comes_to_Love.wav')],\n",
       "             '132': [PosixPath('data/mp3s-32k/fleetwood_mac/Behind_the_Mask/09-Stand_on_the_Rock.wav')],\n",
       "             '5212': [PosixPath('data/mp3s-32k/fleetwood_mac/Behind_the_Mask/01-Skies_the_Limit.wav')],\n",
       "             '1677': [PosixPath('data/mp3s-32k/fleetwood_mac/Behind_the_Mask/10-Hard_Feelings.wav')],\n",
       "             '003': [PosixPath('data/mp3s-32k/fleetwood_mac/Behind_the_Mask/05-Save_Me.wav'),\n",
       "              PosixPath('data/mp3s-32k/fleetwood_mac/Tango_In_The_Night/12-You_and_I_Part_II.wav'),\n",
       "              PosixPath('data/mp3s-32k/queen/The_Works/12-I_Want_To_Break_Free_Extended_Mix_.wav'),\n",
       "              PosixPath('data/mp3s-32k/garth_brooks/In_Pieces/04-One_Night_A_Day.wav'),\n",
       "              PosixPath('data/mp3s-32k/garth_brooks/No_Fences_The_Limited_Series_/07-Wild_Horses.wav'),\n",
       "              PosixPath('data/mp3s-32k/garth_brooks/No_Fences_The_Limited_Series_/11-Wolves.wav'),\n",
       "              PosixPath('data/mp3s-32k/garth_brooks/Garth_Brooks_The_Limited_Series_/04-Uptown_Down-Home_Good_Ol_Boy.wav'),\n",
       "              PosixPath('data/mp3s-32k/garth_brooks/Ropin_The_Wind_The_Limited_Series_/07-Shameless.wav')],\n",
       "             '5199': [PosixPath('data/mp3s-32k/fleetwood_mac/Behind_the_Mask/08-Behind_the_Mask.wav')],\n",
       "             '11110': [PosixPath('data/mp3s-32k/fleetwood_mac/Behind_the_Mask/13-The_Second_Time.wav')],\n",
       "             '152': [PosixPath('data/mp3s-32k/fleetwood_mac/Behind_the_Mask/07-When_the_Sun_Goes_Down.wav')],\n",
       "             '201': [PosixPath('data/mp3s-32k/fleetwood_mac/Tusk/14-Never_Make_Me_Cry.wav'),\n",
       "              PosixPath('data/mp3s-32k/queen/Jazz/14-Fat_Bottomed_Girls_1991_Remix_.wav'),\n",
       "              PosixPath('data/mp3s-32k/queen/Jazz/04-Bicycle_Race.wav'),\n",
       "              PosixPath('data/mp3s-32k/garth_brooks/Ropin_The_Wind_The_Limited_Series_/11-The_River.wav')],\n",
       "             '5119': [PosixPath('data/mp3s-32k/fleetwood_mac/Tusk/20-Never_Forget.wav')],\n",
       "             '033': [PosixPath('data/mp3s-32k/fleetwood_mac/Tusk/11-Angel.wav'),\n",
       "              PosixPath('data/mp3s-32k/fleetwood_mac/Tusk/06-What_Makes_You_Think_You_re_the_One.wav'),\n",
       "              PosixPath('data/mp3s-32k/fleetwood_mac/Tusk/13-Brown_Eyes.wav')],\n",
       "             '151': [PosixPath('data/mp3s-32k/fleetwood_mac/Tusk/17-Beautiful_Child.wav'),\n",
       "              PosixPath('data/mp3s-32k/fleetwood_mac/Tango_In_The_Night/10-Isn_t_It_Midnight.wav')],\n",
       "             '6110': [PosixPath('data/mp3s-32k/fleetwood_mac/Tusk/07-Storms.wav')],\n",
       "             '404': [PosixPath('data/mp3s-32k/fleetwood_mac/Tusk/05-Sarah_Edit_.wav')],\n",
       "             '1812': [PosixPath('data/mp3s-32k/fleetwood_mac/Tusk/09-Not_That_Funny.wav')],\n",
       "             '512': [PosixPath('data/mp3s-32k/fleetwood_mac/Tusk/04-Save_Me_a_Place.wav')],\n",
       "             '01413': [PosixPath('data/mp3s-32k/fleetwood_mac/Tusk/03-Think_About_Me.wav')],\n",
       "             '141': [PosixPath('data/mp3s-32k/fleetwood_mac/Tusk/15-I_Know_I_m_Not_Wrong.wav')],\n",
       "             '823': [PosixPath('data/mp3s-32k/fleetwood_mac/Tusk/08-That_s_All_for_Everyone.wav')],\n",
       "             '0011': [PosixPath('data/mp3s-32k/fleetwood_mac/Tusk/01-Over_Over.wav'),\n",
       "              PosixPath('data/mp3s-32k/fleetwood_mac/Tango_In_The_Night/06-Mystified.wav')],\n",
       "             '61114': [PosixPath('data/mp3s-32k/fleetwood_mac/Tusk/19-Tusk.wav')],\n",
       "             '168': [PosixPath('data/mp3s-32k/fleetwood_mac/Tusk/16-Honey_Hi.wav')],\n",
       "             '514': [PosixPath('data/mp3s-32k/fleetwood_mac/Tusk/10-Sisters_of_the_Moon.wav')],\n",
       "             '742': [PosixPath('data/mp3s-32k/fleetwood_mac/Tusk/02-The_Ledge.wav')],\n",
       "             '103': [PosixPath('data/mp3s-32k/fleetwood_mac/Tusk/18-Walk_a_Thin_Line.wav'),\n",
       "              PosixPath('data/mp3s-32k/fleetwood_mac/Rumours/05-Go_Your_Own_Way.wav')],\n",
       "             '446': [PosixPath('data/mp3s-32k/fleetwood_mac/Tusk/12-That_s_Enough_for_Me.wav'),\n",
       "              PosixPath('data/mp3s-32k/queen/Sheer_Heart_Attack/01-Brighton_Rock.wav')],\n",
       "             '080': [PosixPath('data/mp3s-32k/fleetwood_mac/Tango_In_The_Night/11-When_I_See_You_Again.wav')],\n",
       "             '10310': [PosixPath('data/mp3s-32k/fleetwood_mac/Tango_In_The_Night/03-Everywhere.wav')],\n",
       "             '422': [PosixPath('data/mp3s-32k/fleetwood_mac/Tango_In_The_Night/05-Tango_In_The_Night.wav')],\n",
       "             '931': [PosixPath('data/mp3s-32k/fleetwood_mac/Tango_In_The_Night/02-Seven_Wonders.wav')],\n",
       "             '256': [PosixPath('data/mp3s-32k/fleetwood_mac/Tango_In_The_Night/07-Little_Lies.wav')],\n",
       "             '543': [PosixPath('data/mp3s-32k/fleetwood_mac/Tango_In_The_Night/04-Caroline.wav')],\n",
       "             '011': [PosixPath('data/mp3s-32k/fleetwood_mac/Tango_In_The_Night/08-Family_Man.wav')],\n",
       "             '328': [PosixPath('data/mp3s-32k/fleetwood_mac/Tango_In_The_Night/01-Big_Love.wav')],\n",
       "             '273': [PosixPath('data/mp3s-32k/fleetwood_mac/Tango_In_The_Night/09-Welcome_To_The_Room_Sara.wav')],\n",
       "             '612': [PosixPath('data/mp3s-32k/fleetwood_mac/Rumours/08-You_Make_Loving_Fun.wav')],\n",
       "             '1183': [PosixPath('data/mp3s-32k/fleetwood_mac/Rumours/01-Second_Hand_News.wav')],\n",
       "             '004': [PosixPath('data/mp3s-32k/fleetwood_mac/Rumours/09-I_Don_t_Want_To_Know.wav'),\n",
       "              PosixPath('data/mp3s-32k/queen/A_Night_At_the_Opera/06-Sweet_Lady.wav'),\n",
       "              PosixPath('data/mp3s-32k/queen/The_Game/01-Play_The_Game.wav'),\n",
       "              PosixPath('data/mp3s-32k/queen/Jazz/10-Fun_It.wav'),\n",
       "              PosixPath('data/mp3s-32k/garth_brooks/Garth_Brooks_The_Limited_Series_/09-Nobody_Gets_Off_In_This_Town.wav')],\n",
       "             '5326': [PosixPath('data/mp3s-32k/fleetwood_mac/Rumours/04-Don_t_Stop.wav')],\n",
       "             '1613': [PosixPath('data/mp3s-32k/fleetwood_mac/Rumours/02-Dreams.wav')],\n",
       "             '202': [PosixPath('data/mp3s-32k/fleetwood_mac/Rumours/03-Never_Going_Back_Again.wav')],\n",
       "             '741': [PosixPath('data/mp3s-32k/fleetwood_mac/Rumours/06-Songbird.wav')],\n",
       "             '014': [PosixPath('data/mp3s-32k/fleetwood_mac/Rumours/11-Gold_Dust_Woman.wav')],\n",
       "             '621': [PosixPath('data/mp3s-32k/fleetwood_mac/Rumours/10-Oh_Daddy.wav')],\n",
       "             '1013': [PosixPath('data/mp3s-32k/fleetwood_mac/Rumours/07-The_Chain.wav'),\n",
       "              PosixPath('data/mp3s-32k/garth_brooks/In_Pieces/11-The_Cowboy_Song.wav')],\n",
       "             '913': [PosixPath('data/mp3s-32k/fleetwood_mac/Mirage/06-Only_over_You.wav'),\n",
       "              PosixPath('data/mp3s-32k/fleetwood_mac/Mirage/10-Oh_Diane.wav')],\n",
       "             '268': [PosixPath('data/mp3s-32k/fleetwood_mac/Mirage/03-That_s_Alright.wav')],\n",
       "             '14312': [PosixPath('data/mp3s-32k/fleetwood_mac/Mirage/11-Eyes_of_the_World.wav')],\n",
       "             '0102': [PosixPath('data/mp3s-32k/fleetwood_mac/Mirage/02-Can_t_Go_Back.wav'),\n",
       "              PosixPath('data/mp3s-32k/queen/The_Works/01-Radio_Ga_Ga.wav')],\n",
       "             '724': [PosixPath('data/mp3s-32k/fleetwood_mac/Mirage/04-Book_of_Love.wav')],\n",
       "             '4011': [PosixPath('data/mp3s-32k/fleetwood_mac/Mirage/09-Hold_Me.wav')],\n",
       "             '10143': [PosixPath('data/mp3s-32k/fleetwood_mac/Mirage/05-Gypsy.wav')],\n",
       "             '146': [PosixPath('data/mp3s-32k/fleetwood_mac/Mirage/12-Wish_You_Were_Here.wav')],\n",
       "             '007': [PosixPath('data/mp3s-32k/fleetwood_mac/Mirage/08-Straight_Back.wav'),\n",
       "              PosixPath('data/mp3s-32k/queen/Jazz/01-Mustapha.wav')],\n",
       "             '466': [PosixPath('data/mp3s-32k/fleetwood_mac/Mirage/01-Love_in_Store.wav')],\n",
       "             '324': [PosixPath('data/mp3s-32k/fleetwood_mac/Mirage/07-Empire_State.wav')],\n",
       "             '133': [PosixPath('data/mp3s-32k/fleetwood_mac/Fleetwood_Mac/01-Monday_Morning.wav')],\n",
       "             '572': [PosixPath('data/mp3s-32k/fleetwood_mac/Fleetwood_Mac/02-Warm_Ways.wav')],\n",
       "             '333': [PosixPath('data/mp3s-32k/fleetwood_mac/Fleetwood_Mac/06-Crystal.wav'),\n",
       "              PosixPath('data/mp3s-32k/queen/A_Night_At_the_Opera/02-Lazing_On_a_Sunday_Afternoon.wav')],\n",
       "             '021': [PosixPath('data/mp3s-32k/fleetwood_mac/Fleetwood_Mac/10-Sugar_Daddy.wav')],\n",
       "             '107': [PosixPath('data/mp3s-32k/fleetwood_mac/Fleetwood_Mac/03-Blue_Letter.wav'),\n",
       "              PosixPath('data/mp3s-32k/garth_brooks/Fresh_Horses_2000/03-The_Fever.wav')],\n",
       "             '431': [PosixPath('data/mp3s-32k/fleetwood_mac/Fleetwood_Mac/04-Rhiannon.wav')],\n",
       "             '262': [PosixPath('data/mp3s-32k/fleetwood_mac/Fleetwood_Mac/08-Landslide.wav')],\n",
       "             '100': [PosixPath('data/mp3s-32k/fleetwood_mac/Fleetwood_Mac/09-World_Turning.wav'),\n",
       "              PosixPath('data/mp3s-32k/garth_brooks/Ropin_The_Wind_The_Limited_Series_/10-In_Lonesome_Dove.wav'),\n",
       "              PosixPath('data/mp3s-32k/garth_brooks/The_Chase/03-Mr_Right.wav'),\n",
       "              PosixPath('data/mp3s-32k/cure/Disintegration/04-Love_Song.wav')],\n",
       "             '323': [PosixPath('data/mp3s-32k/fleetwood_mac/Fleetwood_Mac/07-Say_You_Love_Me.wav')],\n",
       "             '0115': [PosixPath('data/mp3s-32k/fleetwood_mac/Fleetwood_Mac/05-Over_My_Head.wav')],\n",
       "             '129': [PosixPath('data/mp3s-32k/queen/Sheer_Heart_Attack/04-Flick_Of_The_Wrist.wav')],\n",
       "             '300': [PosixPath('data/mp3s-32k/queen/Sheer_Heart_Attack/12-She_Makes_Me_Stormtrooper_In_Stilettos_.wav'),\n",
       "              PosixPath('data/mp3s-32k/garth_brooks/Ropin_The_Wind_The_Limited_Series_/02-Rodeo.wav'),\n",
       "              PosixPath('data/mp3s-32k/garth_brooks/The_Chase/04-Every_Now_And_Then.wav'),\n",
       "              PosixPath('data/mp3s-32k/garth_brooks/The_Chase/05-Walking_After_Midnight.wav')],\n",
       "             '5101': [PosixPath('data/mp3s-32k/queen/Sheer_Heart_Attack/07-In_The_Lap_Of_The_Gods.wav')],\n",
       "             '224': [PosixPath('data/mp3s-32k/queen/Sheer_Heart_Attack/06-Now_I_m_Here.wav')],\n",
       "             '751': [PosixPath('data/mp3s-32k/queen/Sheer_Heart_Attack/14-Stone_Cold_Crazy_1991_Bonus_Remix_by_Michael_Wagener_.wav')],\n",
       "             '406': [PosixPath('data/mp3s-32k/queen/Sheer_Heart_Attack/11-Bring_Back_That_Leroy_Brown.wav')],\n",
       "             '1416': [PosixPath('data/mp3s-32k/queen/Sheer_Heart_Attack/09-Dear_Friends.wav')],\n",
       "             '2537': [PosixPath('data/mp3s-32k/queen/Sheer_Heart_Attack/05-Lily_Of_The_Valley.wav')],\n",
       "             '204': [PosixPath('data/mp3s-32k/queen/Sheer_Heart_Attack/10-Misfire.wav')],\n",
       "             '041': [PosixPath('data/mp3s-32k/queen/Sheer_Heart_Attack/02-Killer_Queen.wav')],\n",
       "             '15324': [PosixPath('data/mp3s-32k/queen/Sheer_Heart_Attack/13-In_The_Lap_Of_The_Gods_Revisited.wav')],\n",
       "             '353': [PosixPath('data/mp3s-32k/queen/The_Works/05-Machines_Back_To_Humans_.wav')],\n",
       "             '933': [PosixPath('data/mp3s-32k/queen/The_Works/06-I_Want_To_Break_Free.wav')],\n",
       "             '047': [PosixPath('data/mp3s-32k/queen/The_Works/03-It_s_A_Hard_Life.wav')],\n",
       "             '102': [PosixPath('data/mp3s-32k/queen/The_Works/09-Is_This_The_World_We_Created_.wav'),\n",
       "              PosixPath('data/mp3s-32k/queen/The_Game/08-Sail_Away_Sweet_Sister.wav'),\n",
       "              PosixPath('data/mp3s-32k/garth_brooks/In_Pieces/05-Ain_t_Goin_Down_Till_The_Sun_Comes_Up_.wav')],\n",
       "             '443': [PosixPath('data/mp3s-32k/queen/The_Works/10-I_Go_Crazy.wav')],\n",
       "             '1108': [PosixPath('data/mp3s-32k/queen/The_Works/07-Keep_Passing_The_Open_Windows.wav')],\n",
       "             '534': [PosixPath('data/mp3s-32k/queen/The_Works/11-Radio_Ga_Ga_Extended_Version_.wav')],\n",
       "             '267': [PosixPath('data/mp3s-32k/queen/The_Works/08-Hammer_To_Fall.wav')],\n",
       "             '3213': [PosixPath('data/mp3s-32k/queen/The_Works/04-Man_On_The_Prowl.wav')],\n",
       "             '551': [PosixPath('data/mp3s-32k/queen/News_Of_The_World/12-We_Will_Rock_You_1991_Bonus_Remix_ruined_by_Rick_Rubin_.wav')],\n",
       "             '213': [PosixPath('data/mp3s-32k/queen/News_Of_The_World/10-It_s_Late.wav')],\n",
       "             '1042': [PosixPath('data/mp3s-32k/queen/News_Of_The_World/04-All_Dead_All_Dead.wav')],\n",
       "             '1317': [PosixPath('data/mp3s-32k/queen/News_Of_The_World/11-My_Melancholy_Blues.wav')],\n",
       "             '281': [PosixPath('data/mp3s-32k/queen/News_Of_The_World/09-Who_Needs_You.wav')],\n",
       "             '159': [PosixPath('data/mp3s-32k/queen/News_Of_The_World/08-Sleeping_On_The_Sidewalk.wav')],\n",
       "             '330': [PosixPath('data/mp3s-32k/queen/News_Of_The_World/03-Sheer_Heart_Attack.wav')],\n",
       "             '11313': [PosixPath('data/mp3s-32k/queen/News_Of_The_World/01-We_Will_Rock_You.wav')],\n",
       "             '2310': [PosixPath('data/mp3s-32k/queen/News_Of_The_World/06-Fight_From_The_Inside.wav')],\n",
       "             '022': [PosixPath('data/mp3s-32k/queen/News_Of_The_World/02-We_Are_The_Champions.wav')],\n",
       "             '1121': [PosixPath('data/mp3s-32k/queen/A_Night_At_the_Opera/01-Death_On_Two_Legs_Dedicated_To_.wav')],\n",
       "             '648': [PosixPath('data/mp3s-32k/queen/A_Night_At_the_Opera/12-God_Save_the_Queen.wav')],\n",
       "             '073': [PosixPath('data/mp3s-32k/queen/A_Night_At_the_Opera/08-The_Prophet_s_Song.wav')],\n",
       "             '112': [PosixPath('data/mp3s-32k/queen/A_Night_At_the_Opera/14-You_re_My_Best_Friend.wav')],\n",
       "             '208': [PosixPath('data/mp3s-32k/queen/A_Night_At_the_Opera/11-Bohemian_Rhapsody.wav'),\n",
       "              PosixPath('data/mp3s-32k/garth_brooks/No_Fences_The_Limited_Series_/06-This_Ain_t_Tennessee.wav')],\n",
       "             '023': [PosixPath('data/mp3s-32k/queen/A_Night_At_the_Opera/04-You_re_My_Best_Friend.wav')],\n",
       "             '1046': [PosixPath('data/mp3s-32k/queen/A_Night_At_the_Opera/07-Seaside_Rendezvous.wav')],\n",
       "             '111': [PosixPath('data/mp3s-32k/queen/A_Night_At_the_Opera/13-I_m_In_Love_With_My_Car.wav')],\n",
       "             '962': [PosixPath('data/mp3s-32k/queen/A_Night_At_the_Opera/05-_39.wav')],\n",
       "             '6108': [PosixPath('data/mp3s-32k/queen/A_Night_At_the_Opera/09-Love_of_My_Life.wav')],\n",
       "             '303': [PosixPath('data/mp3s-32k/queen/The_Game/03-Another_One_Bites_The_Dust.wav'),\n",
       "              PosixPath('data/mp3s-32k/queen/Jazz/13-More_Of_That_Jazz.wav')],\n",
       "             '1221': [PosixPath('data/mp3s-32k/queen/The_Game/05-Crazy_Little_Thing_Called_Love.wav')],\n",
       "             '290': [PosixPath('data/mp3s-32k/queen/The_Game/10-Save_Me.wav')],\n",
       "             '039': [PosixPath('data/mp3s-32k/queen/The_Game/11-Dragon_Attack_1991_Bonus_Remix_.wav')],\n",
       "             '7126': [PosixPath('data/mp3s-32k/queen/The_Game/02-Dragon_Attack.wav')],\n",
       "             '2173': [PosixPath('data/mp3s-32k/queen/The_Game/09-Coming_Soon.wav')],\n",
       "             '1310': [PosixPath('data/mp3s-32k/queen/The_Game/06-Rock_It_Prime_Jive_.wav')],\n",
       "             '510': [PosixPath('data/mp3s-32k/queen/The_Game/04-Need_Your_Loving_Tonight.wav')],\n",
       "             '206': [PosixPath('data/mp3s-32k/queen/Jazz/05-If_You_Can_t_Beat_Them.wav')],\n",
       "             '702': [PosixPath('data/mp3s-32k/queen/Jazz/03-Jealousy.wav'),\n",
       "              PosixPath('data/mp3s-32k/garth_brooks/No_Fences_The_Limited_Series_/01-The_Thunder_Rolls.wav')],\n",
       "             '12013': [PosixPath('data/mp3s-32k/queen/Jazz/12-Don_t_Stop_Me_Now.wav')],\n",
       "             '609': [PosixPath('data/mp3s-32k/queen/Jazz/02-Fat_Bottomed_Girls.wav')],\n",
       "             '1202': [PosixPath('data/mp3s-32k/queen/Jazz/07-Dead_On_Time.wav')],\n",
       "             '1011': [PosixPath('data/mp3s-32k/queen/Jazz/11-Leaving_Home_Ain_t_Easy.wav')],\n",
       "             '209': [PosixPath('data/mp3s-32k/queen/Jazz/06-Let_Me_Entertain_You.wav')],\n",
       "             '1603': [PosixPath('data/mp3s-32k/queen/Jazz/08-In_Only_Seven_Days.wav')],\n",
       "             '804': [PosixPath('data/mp3s-32k/garth_brooks/In_Pieces/01-Standing_Outside_The_Fire.wav'),\n",
       "              PosixPath('data/mp3s-32k/garth_brooks/Fresh_Horses_2000/06-The_Change.wav')],\n",
       "             '501': [PosixPath('data/mp3s-32k/garth_brooks/In_Pieces/09-Callin_Baton_Rouge.wav')],\n",
       "             '602': [PosixPath('data/mp3s-32k/garth_brooks/In_Pieces/10-The_Night_Will_Only_Know.wav'),\n",
       "              PosixPath('data/mp3s-32k/garth_brooks/Garth_Brooks_The_Limited_Series_/01-Not_Counting_You.wav')],\n",
       "             '504': [PosixPath('data/mp3s-32k/garth_brooks/In_Pieces/08-The_Red_Strokes.wav')],\n",
       "             '2015': [PosixPath('data/mp3s-32k/garth_brooks/In_Pieces/03-American_Honky_Tonk_Bar_Association.wav')],\n",
       "             '0020': [PosixPath('data/mp3s-32k/garth_brooks/In_Pieces/06-Anonymous.wav')],\n",
       "             '701': [PosixPath('data/mp3s-32k/garth_brooks/In_Pieces/07-Kickin_And_Screamin_.wav')],\n",
       "             '603': [PosixPath('data/mp3s-32k/garth_brooks/No_Fences_The_Limited_Series_/08-Unanswered_Prayers.wav')],\n",
       "             '1012': [PosixPath('data/mp3s-32k/garth_brooks/No_Fences_The_Limited_Series_/10-Mr_Blue.wav')],\n",
       "             '801': [PosixPath('data/mp3s-32k/garth_brooks/No_Fences_The_Limited_Series_/04-Victim_Of_The_Game.wav')],\n",
       "             '408': [PosixPath('data/mp3s-32k/garth_brooks/No_Fences_The_Limited_Series_/02-New_Way_To_Fly.wav')],\n",
       "             '002': [PosixPath('data/mp3s-32k/garth_brooks/No_Fences_The_Limited_Series_/05-Friends_In_Low_Places.wav')],\n",
       "             '1106': [PosixPath('data/mp3s-32k/garth_brooks/Fresh_Horses_2000/07-The_Beaches_of_Cheyenne.wav')],\n",
       "             '2016': [PosixPath('data/mp3s-32k/garth_brooks/Fresh_Horses_2000/01-The_Old_Stuff.wav')],\n",
       "             '403': [PosixPath('data/mp3s-32k/garth_brooks/Fresh_Horses_2000/04-That_Ol_Wind.wav')],\n",
       "             '7018': [PosixPath('data/mp3s-32k/garth_brooks/Fresh_Horses_2000/11-Ireland.wav')],\n",
       "             '502': [PosixPath('data/mp3s-32k/garth_brooks/Fresh_Horses_2000/10-She_s_Every_Woman.wav')],\n",
       "             '401': [PosixPath('data/mp3s-32k/garth_brooks/Fresh_Horses_2000/09-It_s_Midnight_Cinderella.wav')],\n",
       "             '903': [PosixPath('data/mp3s-32k/garth_brooks/Garth_Brooks_The_Limited_Series_/10-I_Know_One.wav')],\n",
       "             '1601': [PosixPath('data/mp3s-32k/garth_brooks/Garth_Brooks_The_Limited_Series_/05-Everytime_That_It_Rains.wav')],\n",
       "             '203': [PosixPath('data/mp3s-32k/garth_brooks/Garth_Brooks_The_Limited_Series_/07-Much_Too_Young_To_Feel_This_Damn_Old_.wav'),\n",
       "              PosixPath('data/mp3s-32k/garth_brooks/Ropin_The_Wind_The_Limited_Series_/06-Papa_Loved_Mama.wav')],\n",
       "             '305': [PosixPath('data/mp3s-32k/garth_brooks/Garth_Brooks_The_Limited_Series_/02-I_ve_Got_A_Good_Thing_Going.wav'),\n",
       "              PosixPath('data/mp3s-32k/garth_brooks/Garth_Brooks_The_Limited_Series_/03-If_Tomorrow_Never_Comes.wav')],\n",
       "             '105': [PosixPath('data/mp3s-32k/garth_brooks/Garth_Brooks_The_Limited_Series_/08-Cowboy_Bill.wav')],\n",
       "             '302': [PosixPath('data/mp3s-32k/garth_brooks/Garth_Brooks_The_Limited_Series_/11-The_Dance.wav')],\n",
       "             '405': [PosixPath('data/mp3s-32k/garth_brooks/Ropin_The_Wind_The_Limited_Series_/08-Cold_Shoulder.wav')],\n",
       "             '800': [PosixPath('data/mp3s-32k/garth_brooks/Ropin_The_Wind_The_Limited_Series_/03-What_She_s_Doing_Now.wav'),\n",
       "              PosixPath('data/mp3s-32k/garth_brooks/The_Chase/09-Something_With_A_Ring_To_It.wav')],\n",
       "             '400': [PosixPath('data/mp3s-32k/garth_brooks/Ropin_The_Wind_The_Limited_Series_/09-We_Bury_The_Hatchet.wav'),\n",
       "              PosixPath('data/mp3s-32k/garth_brooks/Ropin_The_Wind_The_Limited_Series_/01-Against_The_Grain.wav')],\n",
       "             '700': [PosixPath('data/mp3s-32k/garth_brooks/The_Chase/08-That_Summer.wav')],\n",
       "             '200': [PosixPath('data/mp3s-32k/garth_brooks/The_Chase/07-Learning_To_Live_Again.wav'),\n",
       "              PosixPath('data/mp3s-32k/garth_brooks/The_Chase/11-Face_To_Face.wav')],\n",
       "             '500': [PosixPath('data/mp3s-32k/garth_brooks/The_Chase/06-Dixie_Chicken.wav')],\n",
       "             '600': [PosixPath('data/mp3s-32k/cure/Disintegration/08-Prayers_For_Rain.wav')]})"
      ]
     },
     "execution_count": 25,
     "metadata": {},
     "output_type": "execute_result"
    }
   ],
   "source": [
    "lsh.hash_tables[1].hash_table"
   ]
  },
  {
   "cell_type": "code",
   "execution_count": 26,
   "metadata": {},
   "outputs": [],
   "source": [
    "audioq = \"./data/queries/track1.wav\"\n",
    "audio = \"./data/mp3s-32k/aerosmith/Aerosmith/03-Dream_On.wav\""
   ]
  },
  {
   "cell_type": "markdown",
   "metadata": {},
   "source": [
    "# Query test"
   ]
  },
  {
   "cell_type": "markdown",
   "metadata": {},
   "source": [
    "take the fisrt query"
   ]
  },
  {
   "cell_type": "code",
   "execution_count": 27,
   "metadata": {},
   "outputs": [
    {
     "data": {
      "text/plain": [
       "\"audio = 'data/queries/track3.wav'\""
      ]
     },
     "execution_count": 27,
     "metadata": {},
     "output_type": "execute_result"
    }
   ],
   "source": [
    "\"\"\"audio = 'data/queries/track3.wav'\"\"\""
   ]
  },
  {
   "cell_type": "markdown",
   "metadata": {},
   "source": [
    "make the hashmin of the song"
   ]
  },
  {
   "cell_type": "code",
   "execution_count": 28,
   "metadata": {},
   "outputs": [
    {
     "data": {
      "text/plain": [
       "'track, sr, onset_env, peaks = load_audio_picks(audio, DURATION, HOP_SIZE)\\ntimess = librosa.frames_to_time(np.arange(len(onset_env)), sr=sr, hop_length=HOP_SIZE)\\ntimesPeaks = timeOfPeaks(peaks, timess)\\nfreqsP = [onset_env[i] for i in peaks]\\n    \\nh = minhash(freqsP, timesPeaks, THRESHOLD, DURATION)\\nh'"
      ]
     },
     "execution_count": 28,
     "metadata": {},
     "output_type": "execute_result"
    }
   ],
   "source": [
    "\"\"\"track, sr, onset_env, peaks = load_audio_picks(audio, DURATION, HOP_SIZE)\n",
    "timess = librosa.frames_to_time(np.arange(len(onset_env)), sr=sr, hop_length=HOP_SIZE)\n",
    "timesPeaks = timeOfPeaks(peaks, timess)\n",
    "freqsP = [onset_env[i] for i in peaks]\n",
    "    \n",
    "h = minhash(freqsP, timesPeaks, THRESHOLD, DURATION)\n",
    "h\"\"\""
   ]
  },
  {
   "cell_type": "markdown",
   "metadata": {},
   "source": [
    "lets see if it match something..."
   ]
  },
  {
   "cell_type": "code",
   "execution_count": 29,
   "metadata": {},
   "outputs": [
    {
     "data": {
      "text/plain": [
       "'guess_song(audio)'"
      ]
     },
     "execution_count": 29,
     "metadata": {},
     "output_type": "execute_result"
    }
   ],
   "source": [
    "\"\"\"guess_song(audio)\"\"\""
   ]
  },
  {
   "cell_type": "code",
   "execution_count": 30,
   "metadata": {},
   "outputs": [
    {
     "data": {
      "text/plain": [
       "'data_folder2 = Path(\"./data/queries/\")\\nquery_tracks = data_folder2.glob(\"./*.wav\")\\nget = 0\\nmiss = 0\\nfor query in query_tracks:\\n    print(\"\\nCurrent query: \" + str(query) + \"\\n\")\\n    try:\\n        print(guess_song(query))\\n        get += 1\\n    except KeyError:\\n        print(\"Not matched!\")\\n        miss += 1\\n    print(\"\\n===========================================\\n\")\\n    \\nprint(\"Song matched: \" + str(get) + \"  Song missed: \" + str(miss))'"
      ]
     },
     "execution_count": 30,
     "metadata": {},
     "output_type": "execute_result"
    }
   ],
   "source": [
    "\"\"\"data_folder2 = Path(\"./data/queries/\")\n",
    "query_tracks = data_folder2.glob(\"./*.wav\")\n",
    "get = 0\n",
    "miss = 0\n",
    "for query in query_tracks:\n",
    "    print(\"\\nCurrent query: \" + str(query) + \"\\n\")\n",
    "    try:\n",
    "        print(guess_song(query))\n",
    "        get += 1\n",
    "    except KeyError:\n",
    "        print(\"Not matched!\")\n",
    "        miss += 1\n",
    "    print(\"\\n===========================================\\n\")\n",
    "    \n",
    "print(\"Song matched: \" + str(get) + \"  Song missed: \" + str(miss))\"\"\""
   ]
  }
 ],
 "metadata": {
  "interpreter": {
   "hash": "1cab321cb1acdda0c363d7de36f5defdacb4b1bdc03056ebbf5164ad5dbb0ce6"
  },
  "kernelspec": {
   "display_name": "Python 3",
   "language": "python",
   "name": "python3"
  },
  "language_info": {
   "codemirror_mode": {
    "name": "ipython",
    "version": 3
   },
   "file_extension": ".py",
   "mimetype": "text/x-python",
   "name": "python",
   "nbconvert_exporter": "python",
   "pygments_lexer": "ipython3",
   "version": "3.8.8"
  }
 },
 "nbformat": 4,
 "nbformat_minor": 4
}
