{
 "cells": [
  {
   "cell_type": "code",
   "execution_count": 1,
   "metadata": {},
   "outputs": [],
   "source": [
    "import numpy as np      \n",
    "import matplotlib.pyplot as plt \n",
    "import scipy.io.wavfile \n",
    "import subprocess\n",
    "import librosa\n",
    "import librosa.display\n",
    "import IPython.display as ipd\n",
    "\n",
    "from pathlib import Path, PurePath   \n",
    "from tqdm.notebook import tqdm"
   ]
  },
  {
   "cell_type": "markdown",
   "metadata": {},
   "source": [
    "## Utility functions"
   ]
  },
  {
   "cell_type": "code",
   "execution_count": 2,
   "metadata": {},
   "outputs": [],
   "source": [
    "def convert_mp3_to_wav(audio:str) -> str:  \n",
    "    \"\"\"Convert an input MP3 audio track into a WAV file.\n",
    "\n",
    "    Args:\n",
    "        audio (str): An input audio track.\n",
    "\n",
    "    Returns:\n",
    "        [str]: WAV filename.\n",
    "    \"\"\"\n",
    "    if audio[-3:] == \"mp3\":\n",
    "        wav_audio = audio[:-3] + \"wav\"\n",
    "        if not Path(wav_audio).exists():\n",
    "                subprocess.check_output(f\"ffmpeg -i {audio} {wav_audio}\", shell=True)\n",
    "        return wav_audio\n",
    "    \n",
    "    return audio\n",
    "\n",
    "def plot_spectrogram_and_picks(track:np.ndarray, sr:int, peaks:np.ndarray, onset_env:np.ndarray) -> None:\n",
    "    \"\"\"[summary]\n",
    "\n",
    "    Args:\n",
    "        track (np.ndarray): A track.\n",
    "        sr (int): Aampling rate.\n",
    "        peaks (np.ndarray): Indices of peaks in the track.\n",
    "        onset_env (np.ndarray): Vector containing the onset strength envelope.\n",
    "    \"\"\"\n",
    "    times = librosa.frames_to_time(np.arange(len(onset_env)),\n",
    "                            sr=sr, hop_length=HOP_SIZE)\n",
    "\n",
    "    plt.figure()\n",
    "    ax = plt.subplot(2, 1, 2)\n",
    "    D = librosa.stft(track)\n",
    "    librosa.display.specshow(librosa.amplitude_to_db(np.abs(D), ref=np.max),\n",
    "                            y_axis='log', x_axis='time')\n",
    "    plt.subplot(2, 1, 1, sharex=ax)\n",
    "    plt.plot(times, onset_env, alpha=0.8, label='Onset strength')\n",
    "    plt.vlines(times[peaks], 0,\n",
    "            onset_env.max(), color='r', alpha=0.8,\n",
    "            label='Selected peaks')\n",
    "    plt.legend(frameon=True, framealpha=0.8)\n",
    "    plt.axis('tight')\n",
    "    plt.tight_layout()\n",
    "    plt.show()\n",
    "\n",
    "def load_audio_picks(audio, duration, hop_size):\n",
    "    \"\"\"[summary]\n",
    "\n",
    "    Args:\n",
    "        audio (string, int, pathlib.Path or file-like object): [description]\n",
    "        duration (int): [description]\n",
    "        hop_size (int): \n",
    "\n",
    "    Returns:\n",
    "        tuple: Returns the audio time series (track) and sampling rate (sr), a vector containing the onset strength envelope\n",
    "        (onset_env), and the indices of peaks in track (peaks).\n",
    "    \"\"\"\n",
    "    try:\n",
    "        track, sr = librosa.load(audio, duration=duration)\n",
    "        onset_env = librosa.onset.onset_strength(track, sr=sr, hop_length=hop_size)\n",
    "        peaks = librosa.util.peak_pick(onset_env, 10, 10, 10, 10, 0.5, 0.5)\n",
    "    except Error as e:\n",
    "        print('An error occurred processing ', str(audio))\n",
    "        print(e)\n",
    "\n",
    "    return track, sr, onset_env, peaks\n",
    "    \n",
    "    "
   ]
  },
  {
   "cell_type": "markdown",
   "metadata": {},
   "source": [
    "## Settings"
   ]
  },
  {
   "cell_type": "code",
   "execution_count": 3,
   "metadata": {},
   "outputs": [],
   "source": [
    "N_TRACKS = 1413\n",
    "HOP_SIZE = 512\n",
    "DURATION = 30 # TODO: to be tuned!\n",
    "THRESHOLD = 5 # TODO: to be tuned!"
   ]
  },
  {
   "cell_type": "code",
   "execution_count": 4,
   "metadata": {},
   "outputs": [],
   "source": [
    "data_folder = Path(\"./data/mp3s-32k/\")\n",
    "mp3_tracks = data_folder.glob(\"*/*/*.mp3\")\n",
    "tracks = data_folder.glob(\"*/*/*.wav\")"
   ]
  },
  {
   "cell_type": "code",
   "execution_count": 5,
   "metadata": {},
   "outputs": [],
   "source": [
    "songs = list(data_folder.glob(\"*/*/*.wav\"))"
   ]
  },
  {
   "cell_type": "markdown",
   "metadata": {},
   "source": [
    "## Preprocessing"
   ]
  },
  {
   "cell_type": "code",
   "execution_count": 6,
   "metadata": {},
   "outputs": [],
   "source": [
    "def preprocessing(mp3_tracks):\n",
    "    for track in tqdm(mp3_tracks, total=N_TRACKS):\n",
    "        convert_mp3_to_wav(str(track))"
   ]
  },
  {
   "cell_type": "code",
   "execution_count": 7,
   "metadata": {},
   "outputs": [],
   "source": [
    "#preprocessing(mp3_tracks)"
   ]
  },
  {
   "cell_type": "markdown",
   "metadata": {},
   "source": [
    "## Audio signals"
   ]
  },
  {
   "cell_type": "code",
   "execution_count": 8,
   "metadata": {},
   "outputs": [
    {
     "data": {
      "text/plain": [
       "'for idx, audio in enumerate(tracks):\\n    if idx >= 1:\\n        break\\n    track, sr, onset_env, peaks = load_audio_picks(audio, DURATION, HOP_SIZE)\\n    plot_spectrogram_and_picks(track, sr, peaks, onset_env)\\n        \\n        '"
      ]
     },
     "execution_count": 8,
     "metadata": {},
     "output_type": "execute_result"
    }
   ],
   "source": [
    "\"\"\"for idx, audio in enumerate(tracks):\n",
    "    if idx >= 1:\n",
    "        break\n",
    "    track, sr, onset_env, peaks = load_audio_picks(audio, DURATION, HOP_SIZE)\n",
    "    plot_spectrogram_and_picks(track, sr, peaks, onset_env)\n",
    "        \n",
    "        \"\"\""
   ]
  },
  {
   "cell_type": "markdown",
   "metadata": {},
   "source": [
    "## Minhash"
   ]
  },
  {
   "cell_type": "code",
   "execution_count": 9,
   "metadata": {},
   "outputs": [],
   "source": [
    "# TODO"
   ]
  },
  {
   "cell_type": "code",
   "execution_count": 10,
   "metadata": {},
   "outputs": [],
   "source": [
    "from bitstring import BitArray\n",
    "import pandas as pd\n",
    "from collections import *\n",
    "import pickle\n",
    "import multiprocessing\n",
    "from multiprocessing.dummy import Pool\n",
    "import random"
   ]
  },
  {
   "cell_type": "code",
   "execution_count": 11,
   "metadata": {},
   "outputs": [],
   "source": [
    "def save_object(obj, filename):\n",
    "    with open(filename, 'wb') as outp:  # Overwrites any existing file.\n",
    "        pickle.dump(obj, outp, pickle.HIGHEST_PROTOCOL)"
   ]
  },
  {
   "cell_type": "code",
   "execution_count": 12,
   "metadata": {},
   "outputs": [],
   "source": [
    "def read_object(filename):\n",
    "    with open(filename, 'rb') as file:\n",
    "        data = pickle.load(file)\n",
    "    return data"
   ]
  },
  {
   "cell_type": "code",
   "execution_count": 13,
   "metadata": {},
   "outputs": [],
   "source": [
    "def timeOfPeaks(peaks, times):\n",
    "    timesPeaks = []\n",
    "    \n",
    "    for i in peaks:\n",
    "        timesPeaks.append(times[i])\n",
    "    \n",
    "    return timesPeaks"
   ]
  },
  {
   "cell_type": "code",
   "execution_count": 14,
   "metadata": {},
   "outputs": [],
   "source": [
    "def fibonacci_hash_float(value:float, rand = False, hash_size = 15):\n",
    "\n",
    "    value = BitArray(float=value, length=64)\n",
    "    phi = (1 + 5 ** 0.5) / 2\n",
    "    g = int(2 ** 64 /phi)\n",
    "\n",
    "\n",
    "    value ^= value >> 61\n",
    "\n",
    "    if(rand):\n",
    "        value = int(g * value.float * np.random.random_sample(1))\n",
    "    else:\n",
    "        value = int(g * value.float)\n",
    "\n",
    "    return int(str(value)[0:hash_size])"
   ]
  },
  {
   "cell_type": "code",
   "execution_count": 15,
   "metadata": {},
   "outputs": [],
   "source": [
    "class HashTable:\n",
    "    def __init__(self):\n",
    "        self.hash_table = defaultdict(list)\n",
    "        \n",
    "    def generate_hash(self, inp_vector):\n",
    "        hashVal = \"\".join(inp_vector)\n",
    "        return hashVal\n",
    "            \n",
    "    def setitem(self, vec, label):\n",
    "        val = self.generate_hash(vec)\n",
    "        self.hash_table[val].append(label)\n",
    "        \n",
    "    def setTable(self, dic):\n",
    "        \n",
    "        for i in dic:\n",
    "            self.hash_table[self.generate_hash(dic[i])].append(i)\n",
    "        \n",
    "    def getitem(self, inp_vec):\n",
    "        hash_value = self.generate_hash(inp_vec)\n",
    "        return self.hash_table.get(hash_value, [])\n",
    "    \n",
    "    def getTable(self):\n",
    "        return(self.hash_table)"
   ]
  },
  {
   "cell_type": "code",
   "execution_count": 16,
   "metadata": {},
   "outputs": [],
   "source": [
    "class LSH:\n",
    "    def __init__(self, num_tables, threshold, b):\n",
    "        assert num_tables == threshold//b, \"The number of table must be equals to threshold // band\"\n",
    "        self.num_tables = num_tables\n",
    "        self.band = b\n",
    "        self.threshold = threshold\n",
    "        self.hash_tables = list()\n",
    "        for i in range(self.num_tables):\n",
    "            self.hash_tables.append(HashTable())\n",
    "        \n",
    "            \n",
    "    def minhash(self, matrix, labels):\n",
    "        matrix = np.array(matrix)\n",
    "        out = defaultdict(lambda: defaultdict(list))\n",
    "        \n",
    "        for i in tqdm(range(0,self.threshold)):\n",
    "            np.random.shuffle(matrix)\n",
    "    \n",
    "            for col, name in zip(matrix.T, labels):\n",
    "                \n",
    "                out[i//self.band][name].append((str((col!=0).argmax(axis=0))))\n",
    "        \n",
    "\n",
    "        for key, table in zip(out, self.hash_tables):\n",
    "            table.setTable(out[key])\n",
    "\n",
    "\n",
    "    def info(self):\n",
    "        print(\"Numero di tabelle: \" + str(self.num_tables))\n",
    "        print(\"Elementi per tabella: \" + str(len(self.hash_tables[0].hash_table)))"
   ]
  },
  {
   "cell_type": "code",
   "execution_count": 17,
   "metadata": {},
   "outputs": [
    {
     "name": "stdout",
     "output_type": "stream",
     "text": [
      "[5 4 3 1 2]\n",
      "5\n",
      "4\n",
      "3\n",
      "1\n",
      "2\n"
     ]
    }
   ],
   "source": [
    "l = np.array([1,2,3,4,5])\n",
    "np.random.shuffle(l)\n",
    "print(l)\n",
    "for i in l.T:\n",
    "    print(i)"
   ]
  },
  {
   "cell_type": "code",
   "execution_count": 18,
   "metadata": {},
   "outputs": [],
   "source": [
    "def make_fingerprints(audio, duration, hop):\n",
    "    track, sr, onset_env, peaks = load_audio_picks(audio, DURATION, HOP_SIZE)\n",
    "    times = librosa.frames_to_time(np.arange(len(onset_env)), sr=sr, hop_length=HOP_SIZE)\n",
    "    timesPeaks = timeOfPeaks(peaks, times)\n",
    "    freqsP = [onset_env[i] for i in peaks]\n",
    "\n",
    "    fingerprints = []\n",
    "    sec = hop\n",
    "    time=0\n",
    "    count=0\n",
    "    while(sec <= duration):\n",
    "\n",
    "        idx = 0\n",
    "        hashVal = 0\n",
    "        count += 1\n",
    "\n",
    "        while(time <=sec):\n",
    "            \n",
    "            if(timesPeaks[idx] < sec and timesPeaks[idx] > time):\n",
    "                hashVal ^= fibonacci_hash_float(freqsP[idx]) ^ hashVal\n",
    "                \n",
    "\n",
    "            time = timesPeaks[idx]\n",
    "           \n",
    "            if(idx+1 < len(freqsP)):\n",
    "                idx += 1\n",
    "            else:\n",
    "                break\n",
    "        \n",
    "        fingerprints.append(hashVal)\n",
    "        \n",
    "        sec += hop\n",
    "        \n",
    " \n",
    "        \n",
    "    return fingerprints"
   ]
  },
  {
   "cell_type": "code",
   "execution_count": 19,
   "metadata": {},
   "outputs": [],
   "source": [
    "fin = make_fingerprints(\"./data/mp3s-32k/aerosmith/Aerosmith/03-Dream_On.wav\", 30, 0.3)\n",
    "#fin"
   ]
  },
  {
   "cell_type": "code",
   "execution_count": 20,
   "metadata": {},
   "outputs": [],
   "source": [
    "def make_all_fingerprints(songs):\n",
    "    \n",
    "    listOfFingerprints = []\n",
    "    \n",
    "    with Pool(multiprocessing.cpu_count()) as pool:\n",
    "       \n",
    "         with tqdm(total = 1413) as pbar:\n",
    "            for i, el in enumerate(pool.imap(lambda song: make_fingerprints(song, 30, 0.1), songs)):\n",
    "                listOfFingerprints.append(el)\n",
    "                pbar.update()\n",
    "        \n",
    "    return listOfFingerprints"
   ]
  },
  {
   "cell_type": "markdown",
   "metadata": {},
   "source": [
    "creao fingerprints da 1 secondo della canzone.\n",
    "\n",
    "come creo i backet?"
   ]
  },
  {
   "cell_type": "markdown",
   "metadata": {},
   "source": [
    "Lets try with some test..."
   ]
  },
  {
   "cell_type": "code",
   "execution_count": 21,
   "metadata": {},
   "outputs": [],
   "source": [
    "def populate_LSH(songs):\n",
    "    \n",
    "    lsh = LSH(15, 150, 10)\n",
    "    \n",
    "    if(len(songs) != 1):\n",
    "   \n",
    "        fingerprints = make_all_fingerprints(songs)\n",
    "        \n",
    "        lsh.minhash(fingerprints, songs)\n",
    "            \n",
    "    else:\n",
    "        fingerprint = make_fingerprints(songs[0], DURATION, 0.3)\n",
    "\n",
    "        lsh.minhash(fingerprint, songs)\n",
    "        \n",
    "    return lsh"
   ]
  },
  {
   "cell_type": "code",
   "execution_count": 22,
   "metadata": {},
   "outputs": [],
   "source": [
    "def searchForCollision(lsh, lsh_q):\n",
    "    match = list()\n",
    "    \n",
    "    for table, tableq in zip(lsh.hash_tables, lsh_q.hash_tables):\n",
    "        \n",
    "        match.extend(table.hash_table.get([*tableq.hash_table.keys()][0], [\"NA\"]))\n",
    "        \n",
    "    match = list(filter(lambda a: a != \"NA\", match))\n",
    "    print(match)\n",
    "    prob = Counter(match).most_common(1)[0][1] / len(match)\n",
    "    \n",
    "    return [Counter(match).most_common(3), prob]"
   ]
  },
  {
   "cell_type": "code",
   "execution_count": 23,
   "metadata": {},
   "outputs": [],
   "source": [
    "#save_object(lsh, \"./data/lsh_50_150_3(0.3).pkl\")"
   ]
  },
  {
   "cell_type": "markdown",
   "metadata": {},
   "source": [
    "SISTEMARE HASH DI DIMENSIONE DIVERSA\n",
    "\n",
    "CON UNA SOLA CANZONE LSH DA TUTTI ZERO!"
   ]
  },
  {
   "cell_type": "code",
   "execution_count": 24,
   "metadata": {},
   "outputs": [
    {
     "data": {
      "application/vnd.jupyter.widget-view+json": {
       "model_id": "b6ecc2ff57d0441aa03eb3dbc374739f",
       "version_major": 2,
       "version_minor": 0
      },
      "text/plain": [
       "  0%|          | 0/1413 [00:00<?, ?it/s]"
      ]
     },
     "metadata": {},
     "output_type": "display_data"
    },
    {
     "data": {
      "application/vnd.jupyter.widget-view+json": {
       "model_id": "453e085b3bc54be886631e894b1235e8",
       "version_major": 2,
       "version_minor": 0
      },
      "text/plain": [
       "  0%|          | 0/150 [00:00<?, ?it/s]"
      ]
     },
     "metadata": {},
     "output_type": "display_data"
    },
    {
     "data": {
      "application/vnd.jupyter.widget-view+json": {
       "model_id": "991d960b78d34b9b8792f9aefe4a107a",
       "version_major": 2,
       "version_minor": 0
      },
      "text/plain": [
       "  0%|          | 0/150 [00:00<?, ?it/s]"
      ]
     },
     "metadata": {},
     "output_type": "display_data"
    },
    {
     "name": "stdout",
     "output_type": "stream",
     "text": [
      "[PosixPath('data/mp3s-32k/radiohead/Amnesiac/10-Like_Spinning_Plates.wav'), PosixPath('data/mp3s-32k/radiohead/Amnesiac/04-You_and_Whose_Army.wav'), PosixPath('data/mp3s-32k/radiohead/Amnesiac/09-Hunting_Bears.wav'), PosixPath('data/mp3s-32k/radiohead/Amnesiac/10-Like_Spinning_Plates.wav'), PosixPath('data/mp3s-32k/radiohead/Amnesiac/04-You_and_Whose_Army.wav'), PosixPath('data/mp3s-32k/radiohead/Amnesiac/09-Hunting_Bears.wav'), PosixPath('data/mp3s-32k/cure/Disintegration/11-Homesick.wav'), PosixPath('data/mp3s-32k/radiohead/Amnesiac/10-Like_Spinning_Plates.wav'), PosixPath('data/mp3s-32k/radiohead/Amnesiac/04-You_and_Whose_Army.wav'), PosixPath('data/mp3s-32k/radiohead/Amnesiac/09-Hunting_Bears.wav'), PosixPath('data/mp3s-32k/radiohead/Amnesiac/10-Like_Spinning_Plates.wav'), PosixPath('data/mp3s-32k/radiohead/Amnesiac/04-You_and_Whose_Army.wav'), PosixPath('data/mp3s-32k/radiohead/Amnesiac/09-Hunting_Bears.wav'), PosixPath('data/mp3s-32k/radiohead/Amnesiac/10-Like_Spinning_Plates.wav'), PosixPath('data/mp3s-32k/radiohead/Amnesiac/04-You_and_Whose_Army.wav'), PosixPath('data/mp3s-32k/radiohead/Amnesiac/09-Hunting_Bears.wav'), PosixPath('data/mp3s-32k/radiohead/Amnesiac/10-Like_Spinning_Plates.wav'), PosixPath('data/mp3s-32k/radiohead/Amnesiac/04-You_and_Whose_Army.wav'), PosixPath('data/mp3s-32k/radiohead/Amnesiac/09-Hunting_Bears.wav'), PosixPath('data/mp3s-32k/radiohead/Amnesiac/10-Like_Spinning_Plates.wav'), PosixPath('data/mp3s-32k/radiohead/Amnesiac/04-You_and_Whose_Army.wav'), PosixPath('data/mp3s-32k/radiohead/Amnesiac/09-Hunting_Bears.wav'), PosixPath('data/mp3s-32k/radiohead/Amnesiac/10-Like_Spinning_Plates.wav'), PosixPath('data/mp3s-32k/radiohead/Amnesiac/04-You_and_Whose_Army.wav'), PosixPath('data/mp3s-32k/radiohead/Amnesiac/09-Hunting_Bears.wav'), PosixPath('data/mp3s-32k/radiohead/Amnesiac/10-Like_Spinning_Plates.wav'), PosixPath('data/mp3s-32k/radiohead/Amnesiac/04-You_and_Whose_Army.wav'), PosixPath('data/mp3s-32k/radiohead/Amnesiac/09-Hunting_Bears.wav'), PosixPath('data/mp3s-32k/radiohead/Amnesiac/10-Like_Spinning_Plates.wav'), PosixPath('data/mp3s-32k/radiohead/Amnesiac/04-You_and_Whose_Army.wav'), PosixPath('data/mp3s-32k/radiohead/Amnesiac/09-Hunting_Bears.wav'), PosixPath('data/mp3s-32k/radiohead/Amnesiac/10-Like_Spinning_Plates.wav'), PosixPath('data/mp3s-32k/radiohead/Amnesiac/04-You_and_Whose_Army.wav'), PosixPath('data/mp3s-32k/radiohead/Amnesiac/09-Hunting_Bears.wav'), PosixPath('data/mp3s-32k/radiohead/Amnesiac/10-Like_Spinning_Plates.wav'), PosixPath('data/mp3s-32k/radiohead/Amnesiac/04-You_and_Whose_Army.wav'), PosixPath('data/mp3s-32k/radiohead/Amnesiac/09-Hunting_Bears.wav'), PosixPath('data/mp3s-32k/radiohead/Amnesiac/10-Like_Spinning_Plates.wav'), PosixPath('data/mp3s-32k/radiohead/Amnesiac/04-You_and_Whose_Army.wav'), PosixPath('data/mp3s-32k/radiohead/Amnesiac/09-Hunting_Bears.wav'), PosixPath('data/mp3s-32k/radiohead/Amnesiac/10-Like_Spinning_Plates.wav'), PosixPath('data/mp3s-32k/radiohead/Amnesiac/04-You_and_Whose_Army.wav'), PosixPath('data/mp3s-32k/radiohead/Amnesiac/09-Hunting_Bears.wav'), PosixPath('data/mp3s-32k/radiohead/Amnesiac/10-Like_Spinning_Plates.wav'), PosixPath('data/mp3s-32k/radiohead/Amnesiac/04-You_and_Whose_Army.wav'), PosixPath('data/mp3s-32k/radiohead/Amnesiac/09-Hunting_Bears.wav')]\n"
     ]
    },
    {
     "data": {
      "text/plain": [
       "[[(PosixPath('data/mp3s-32k/radiohead/Amnesiac/10-Like_Spinning_Plates.wav'),\n",
       "   15),\n",
       "  (PosixPath('data/mp3s-32k/radiohead/Amnesiac/04-You_and_Whose_Army.wav'),\n",
       "   15),\n",
       "  (PosixPath('data/mp3s-32k/radiohead/Amnesiac/09-Hunting_Bears.wav'), 15)],\n",
       " 0.32608695652173914]"
      ]
     },
     "execution_count": 24,
     "metadata": {},
     "output_type": "execute_result"
    }
   ],
   "source": [
    "lsh = populate_LSH(songs)\n",
    "save_object(lsh, \"./data/lsh_15_150_10(0.3).pkl\")\n",
    "#lsh = read_object(\"./data/lsh_50_150_3(0.3).pkl\")\n",
    "lsh_q = populate_LSH(['data/mp3s-32k/radiohead/Amnesiac/04-You_and_Whose_Army.wav'])\n",
    "out = searchForCollision(lsh, lsh_q)\n",
    "out"
   ]
  },
  {
   "cell_type": "code",
   "execution_count": 25,
   "metadata": {},
   "outputs": [
    {
     "name": "stdout",
     "output_type": "stream",
     "text": [
      "Numero di tabelle: 15\n",
      "Elementi per tabella: 297\n"
     ]
    }
   ],
   "source": [
    "lsh.info()"
   ]
  },
  {
   "cell_type": "code",
   "execution_count": 34,
   "metadata": {},
   "outputs": [
    {
     "name": "stdout",
     "output_type": "stream",
     "text": [
      "defaultdict(<class 'list'>, {'0000000000': ['data/mp3s-32k/radiohead/Amnesiac/04-You_and_Whose_Army.wav']})\n",
      "defaultdict(<class 'list'>, {'0000000000': ['data/mp3s-32k/radiohead/Amnesiac/04-You_and_Whose_Army.wav']})\n",
      "defaultdict(<class 'list'>, {'0000000000': ['data/mp3s-32k/radiohead/Amnesiac/04-You_and_Whose_Army.wav']})\n",
      "defaultdict(<class 'list'>, {'0000000000': ['data/mp3s-32k/radiohead/Amnesiac/04-You_and_Whose_Army.wav']})\n",
      "defaultdict(<class 'list'>, {'0000000000': ['data/mp3s-32k/radiohead/Amnesiac/04-You_and_Whose_Army.wav']})\n",
      "defaultdict(<class 'list'>, {'0000000000': ['data/mp3s-32k/radiohead/Amnesiac/04-You_and_Whose_Army.wav']})\n",
      "defaultdict(<class 'list'>, {'0000000000': ['data/mp3s-32k/radiohead/Amnesiac/04-You_and_Whose_Army.wav']})\n",
      "defaultdict(<class 'list'>, {'0000000000': ['data/mp3s-32k/radiohead/Amnesiac/04-You_and_Whose_Army.wav']})\n",
      "defaultdict(<class 'list'>, {'0000000000': ['data/mp3s-32k/radiohead/Amnesiac/04-You_and_Whose_Army.wav']})\n",
      "defaultdict(<class 'list'>, {'0000000000': ['data/mp3s-32k/radiohead/Amnesiac/04-You_and_Whose_Army.wav']})\n",
      "defaultdict(<class 'list'>, {'0000000000': ['data/mp3s-32k/radiohead/Amnesiac/04-You_and_Whose_Army.wav']})\n",
      "defaultdict(<class 'list'>, {'0000000000': ['data/mp3s-32k/radiohead/Amnesiac/04-You_and_Whose_Army.wav']})\n",
      "defaultdict(<class 'list'>, {'0000000000': ['data/mp3s-32k/radiohead/Amnesiac/04-You_and_Whose_Army.wav']})\n",
      "defaultdict(<class 'list'>, {'0000000000': ['data/mp3s-32k/radiohead/Amnesiac/04-You_and_Whose_Army.wav']})\n",
      "defaultdict(<class 'list'>, {'0000000000': ['data/mp3s-32k/radiohead/Amnesiac/04-You_and_Whose_Army.wav']})\n"
     ]
    }
   ],
   "source": [
    "for i in lsh_q.hash_tables:\n",
    "    print(i.hash_table)"
   ]
  },
  {
   "cell_type": "code",
   "execution_count": 27,
   "metadata": {},
   "outputs": [
    {
     "data": {
      "text/plain": [
       "defaultdict(list,\n",
       "            {'0000000000': [PosixPath('data/mp3s-32k/radiohead/Amnesiac/10-Like_Spinning_Plates.wav'),\n",
       "              PosixPath('data/mp3s-32k/radiohead/Amnesiac/04-You_and_Whose_Army.wav'),\n",
       "              PosixPath('data/mp3s-32k/radiohead/Amnesiac/09-Hunting_Bears.wav')],\n",
       "             '15322078136581693913137': [PosixPath('data/mp3s-32k/radiohead/Amnesiac/08-Dollars_and_Cents.wav')],\n",
       "             '149651026123326137732': [PosixPath('data/mp3s-32k/radiohead/Amnesiac/03-Pilk_Pull_Revolving_Doors.wav')],\n",
       "             '13177408025427': [PosixPath('data/mp3s-32k/radiohead/Amnesiac/05-I_Might_Be_Wrong.wav')],\n",
       "             '14205195322951': [PosixPath('data/mp3s-32k/radiohead/Amnesiac/11-Life_In_A_Glasshouse.wav')],\n",
       "             '111279124310': [PosixPath('data/mp3s-32k/radiohead/Amnesiac/01-Packt_Like_Sardines_In_A_Crush.wav')],\n",
       "             '251131228158': [PosixPath('data/mp3s-32k/radiohead/Amnesiac/02-Pyramid_Song.wav')],\n",
       "             '41125031316': [PosixPath('data/mp3s-32k/radiohead/Amnesiac/06-Knives_Out.wav')],\n",
       "             '190521018041': [PosixPath('data/mp3s-32k/radiohead/Amnesiac/07-Morning_Bell_Amnesiac.wav')],\n",
       "             '615184261165217': [PosixPath('data/mp3s-32k/radiohead/Hail_to_the_Theif/11-A_Punchup_at_a_Wedding.wav')],\n",
       "             '73100338100': [PosixPath('data/mp3s-32k/radiohead/Hail_to_the_Theif/01-2_2_5_The_Lukewarm_.wav')],\n",
       "             '5122121331': [PosixPath('data/mp3s-32k/radiohead/Hail_to_the_Theif/12-Myxomatosis.wav')],\n",
       "             '11019393116': [PosixPath('data/mp3s-32k/radiohead/Hail_to_the_Theif/02-Sit_Down_Stand_Up.wav')],\n",
       "             '0357736427': [PosixPath('data/mp3s-32k/radiohead/Hail_to_the_Theif/08-The_Gloaming.wav')],\n",
       "             '3404101070': [PosixPath('data/mp3s-32k/radiohead/Hail_to_the_Theif/13-Scatterbrain.wav')],\n",
       "             '1513968123': [PosixPath('data/mp3s-32k/radiohead/Hail_to_the_Theif/14-A_Wolf_at_the_Door.wav')],\n",
       "             '0350012512': [PosixPath('data/mp3s-32k/radiohead/Hail_to_the_Theif/09-There_There.wav')],\n",
       "             '4123148611613': [PosixPath('data/mp3s-32k/radiohead/Hail_to_the_Theif/10-I_Will.wav')],\n",
       "             '7912103420': [PosixPath('data/mp3s-32k/radiohead/Hail_to_the_Theif/05-Go_to_Sleep.wav')],\n",
       "             '0359372066': [PosixPath('data/mp3s-32k/radiohead/Hail_to_the_Theif/04-Backdrifts.wav')],\n",
       "             '31202361024': [PosixPath('data/mp3s-32k/radiohead/Hail_to_the_Theif/06-Where_I_End_and_You_Begin.wav')],\n",
       "             '135031152202': [PosixPath('data/mp3s-32k/radiohead/Hail_to_the_Theif/03-Sail_to_the_Moon.wav')],\n",
       "             '8356406630': [PosixPath('data/mp3s-32k/radiohead/Hail_to_the_Theif/07-We_Suck_Young_Blood.wav')],\n",
       "             '016037151416': [PosixPath('data/mp3s-32k/radiohead/OK_Computer/11-Lucky.wav')],\n",
       "             '4214053022': [PosixPath('data/mp3s-32k/radiohead/OK_Computer/05-Let_Down.wav')],\n",
       "             '56569113131': [PosixPath('data/mp3s-32k/radiohead/OK_Computer/07-Fitter_Happier.wav')],\n",
       "             '11201391145': [PosixPath('data/mp3s-32k/radiohead/OK_Computer/01-Airbag.wav')],\n",
       "             '4512353450': [PosixPath('data/mp3s-32k/radiohead/OK_Computer/08-Electioneering.wav')],\n",
       "             '02099121214': [PosixPath('data/mp3s-32k/radiohead/OK_Computer/12-The_Tourist.wav')],\n",
       "             '54102050101': [PosixPath('data/mp3s-32k/radiohead/OK_Computer/09-Climbing_Up_The_Walls.wav')],\n",
       "             '17311623640': [PosixPath('data/mp3s-32k/radiohead/OK_Computer/04-Exit_Music_for_a_film_.wav')],\n",
       "             '91204110432': [PosixPath('data/mp3s-32k/radiohead/OK_Computer/03-Subterranean_Homesick_Alien.wav')],\n",
       "             '34210626127': [PosixPath('data/mp3s-32k/radiohead/OK_Computer/10-No_Surprises.wav')],\n",
       "             '1110106020': [PosixPath('data/mp3s-32k/radiohead/OK_Computer/06-Karma_Police.wav')],\n",
       "             '013022852206': [PosixPath('data/mp3s-32k/radiohead/OK_Computer/02-Paranoid_Android.wav')],\n",
       "             '61010312645': [PosixPath('data/mp3s-32k/radiohead/The_Bends/08-My_Iron_Lung.wav')],\n",
       "             '121513023110': [PosixPath('data/mp3s-32k/radiohead/The_Bends/05-Bones.wav')],\n",
       "             '13251407544': [PosixPath('data/mp3s-32k/radiohead/The_Bends/10-Black_Star.wav')],\n",
       "             '0110112501214': [PosixPath('data/mp3s-32k/radiohead/The_Bends/11-Sulk.wav')],\n",
       "             '6143731235': [PosixPath('data/mp3s-32k/radiohead/The_Bends/04-Fake_Plastic_Trees.wav')],\n",
       "             '1321409021': [PosixPath('data/mp3s-32k/radiohead/The_Bends/03-High_And_Dry.wav')],\n",
       "             '2904122842': [PosixPath('data/mp3s-32k/radiohead/The_Bends/07-Just.wav')],\n",
       "             '0150353530': [PosixPath('data/mp3s-32k/radiohead/The_Bends/06-_Nice_Dream_.wav')],\n",
       "             '42210141275': [PosixPath('data/mp3s-32k/radiohead/The_Bends/09-Bullet_Proof_I_Wish_I_Was.wav')],\n",
       "             '110021300163': [PosixPath('data/mp3s-32k/radiohead/The_Bends/02-The_Bends.wav')],\n",
       "             '21950813512': [PosixPath('data/mp3s-32k/radiohead/The_Bends/01-Planet_Telex.wav')],\n",
       "             '71245125220': [PosixPath('data/mp3s-32k/radiohead/The_Bends/12-Street_Spirit_Fade_Out_.wav')],\n",
       "             '45012011041': [PosixPath('data/mp3s-32k/radiohead/Kid_A/11-Genchildren_hidden_.wav')],\n",
       "             '0243103634': [PosixPath('data/mp3s-32k/radiohead/Kid_A/03-The_National_Anthem.wav')],\n",
       "             '6160728127': [PosixPath('data/mp3s-32k/radiohead/Kid_A/06-Optimistic.wav')],\n",
       "             '31511382431': [PosixPath('data/mp3s-32k/radiohead/Kid_A/02-Kid_A.wav')],\n",
       "             '15031006111': [PosixPath('data/mp3s-32k/radiohead/Kid_A/07-In_Limbo.wav')],\n",
       "             '2142727040': [PosixPath('data/mp3s-32k/radiohead/Kid_A/10-Motion_Picture_Soundtrack_trimmed_.wav')],\n",
       "             '09111104531': [PosixPath('data/mp3s-32k/radiohead/Kid_A/09-Morning_Bell.wav')],\n",
       "             '6404312300': [PosixPath('data/mp3s-32k/radiohead/Kid_A/08-Idioteque.wav')],\n",
       "             '120205081413': [PosixPath('data/mp3s-32k/radiohead/Kid_A/05-Treefingers.wav')],\n",
       "             '0515434022': [PosixPath('data/mp3s-32k/radiohead/Kid_A/04-How_To_Disappear_Completely.wav')],\n",
       "             '112031052140': [PosixPath('data/mp3s-32k/radiohead/Kid_A/01-Everything_In_Its_Right_Place.wav')],\n",
       "             '1311190524': [PosixPath('data/mp3s-32k/radiohead/Pablo_Honey/13-Creep_Radio_Edit_.wav')],\n",
       "             '2155301005': [PosixPath('data/mp3s-32k/radiohead/Pablo_Honey/03-How_Do_You_.wav')],\n",
       "             '51303022121': [PosixPath('data/mp3s-32k/radiohead/Pablo_Honey/06-Anyone_Can_Play_Guitar.wav')],\n",
       "             '0310114870': [PosixPath('data/mp3s-32k/radiohead/Pablo_Honey/02-Creep.wav')],\n",
       "             '185221116644': [PosixPath('data/mp3s-32k/radiohead/Pablo_Honey/11-Lurgee.wav')],\n",
       "             '7235501230': [PosixPath('data/mp3s-32k/radiohead/Pablo_Honey/12-Blow_Out.wav')],\n",
       "             '0114064321': [PosixPath('data/mp3s-32k/radiohead/Pablo_Honey/08-Vegetable.wav')],\n",
       "             '2602225172': [PosixPath('data/mp3s-32k/radiohead/Pablo_Honey/07-Ripcord.wav')],\n",
       "             '1243100900': [PosixPath('data/mp3s-32k/radiohead/Pablo_Honey/05-Thinking_About_You.wav')],\n",
       "             '0318571441': [PosixPath('data/mp3s-32k/radiohead/Pablo_Honey/10-I_Can_t.wav')],\n",
       "             '31200610223': [PosixPath('data/mp3s-32k/radiohead/Pablo_Honey/01-You.wav')],\n",
       "             '14053423410': [PosixPath('data/mp3s-32k/radiohead/Pablo_Honey/04-Stop_Whispering.wav')],\n",
       "             '5211016114062': [PosixPath('data/mp3s-32k/radiohead/Pablo_Honey/09-Prove_Yourself.wav')],\n",
       "             '41921111180': [PosixPath('data/mp3s-32k/fleetwood_mac/Behind_the_Mask/06-Affairs_of_the_Heart.wav')],\n",
       "             '11188035214': [PosixPath('data/mp3s-32k/fleetwood_mac/Behind_the_Mask/04-Do_You_Know.wav')],\n",
       "             '1905102327': [PosixPath('data/mp3s-32k/fleetwood_mac/Behind_the_Mask/02-Love_Is_Dangerous.wav')],\n",
       "             '011202201040': [PosixPath('data/mp3s-32k/fleetwood_mac/Behind_the_Mask/11-Freedom.wav')],\n",
       "             '5110413910115': [PosixPath('data/mp3s-32k/fleetwood_mac/Behind_the_Mask/12-When_It_Comes_to_Love.wav')],\n",
       "             '1201422112': [PosixPath('data/mp3s-32k/fleetwood_mac/Behind_the_Mask/09-Stand_on_the_Rock.wav')],\n",
       "             '44331506043': [PosixPath('data/mp3s-32k/fleetwood_mac/Behind_the_Mask/01-Skies_the_Limit.wav')],\n",
       "             '0120014260': [PosixPath('data/mp3s-32k/fleetwood_mac/Behind_the_Mask/10-Hard_Feelings.wav')],\n",
       "             '52015221316': [PosixPath('data/mp3s-32k/fleetwood_mac/Behind_the_Mask/03-In_the_Back_of_My_Mind.wav')],\n",
       "             '1143142110413': [PosixPath('data/mp3s-32k/fleetwood_mac/Behind_the_Mask/05-Save_Me.wav')],\n",
       "             '761040171200': [PosixPath('data/mp3s-32k/fleetwood_mac/Behind_the_Mask/08-Behind_the_Mask.wav')],\n",
       "             '6305731206': [PosixPath('data/mp3s-32k/fleetwood_mac/Behind_the_Mask/13-The_Second_Time.wav')],\n",
       "             '15422103122': [PosixPath('data/mp3s-32k/fleetwood_mac/Behind_the_Mask/07-When_the_Sun_Goes_Down.wav')],\n",
       "             '53211064490': [PosixPath('data/mp3s-32k/fleetwood_mac/Tusk/14-Never_Make_Me_Cry.wav')],\n",
       "             '0254702931': [PosixPath('data/mp3s-32k/fleetwood_mac/Tusk/20-Never_Forget.wav')],\n",
       "             '341031254522': [PosixPath('data/mp3s-32k/fleetwood_mac/Tusk/11-Angel.wav')],\n",
       "             '1510826100': [PosixPath('data/mp3s-32k/fleetwood_mac/Tusk/17-Beautiful_Child.wav')],\n",
       "             '72440010310': [PosixPath('data/mp3s-32k/fleetwood_mac/Tusk/07-Storms.wav')],\n",
       "             '2962734123': [PosixPath('data/mp3s-32k/fleetwood_mac/Tusk/06-What_Makes_You_Think_You_re_the_One.wav')],\n",
       "             '15022217400': [PosixPath('data/mp3s-32k/fleetwood_mac/Tusk/05-Sarah_Edit_.wav')],\n",
       "             '161245192235': [PosixPath('data/mp3s-32k/fleetwood_mac/Tusk/09-Not_That_Funny.wav')],\n",
       "             '3241301142': [PosixPath('data/mp3s-32k/fleetwood_mac/Tusk/04-Save_Me_a_Place.wav')],\n",
       "             '01511318133210': [PosixPath('data/mp3s-32k/fleetwood_mac/Tusk/03-Think_About_Me.wav')],\n",
       "             '1100842540': [PosixPath('data/mp3s-32k/fleetwood_mac/Tusk/15-I_Know_I_m_Not_Wrong.wav')],\n",
       "             '151093726021': [PosixPath('data/mp3s-32k/fleetwood_mac/Tusk/08-That_s_All_for_Everyone.wav')],\n",
       "             '13958305435': [PosixPath('data/mp3s-32k/fleetwood_mac/Tusk/01-Over_Over.wav')],\n",
       "             '5122513162': [PosixPath('data/mp3s-32k/fleetwood_mac/Tusk/19-Tusk.wav')],\n",
       "             '7203122273': [PosixPath('data/mp3s-32k/fleetwood_mac/Tusk/16-Honey_Hi.wav')],\n",
       "             '04113112539': [PosixPath('data/mp3s-32k/fleetwood_mac/Tusk/13-Brown_Eyes.wav')],\n",
       "             '2330251050': [PosixPath('data/mp3s-32k/fleetwood_mac/Tusk/10-Sisters_of_the_Moon.wav')],\n",
       "             '0102020523': [PosixPath('data/mp3s-32k/fleetwood_mac/Tusk/02-The_Ledge.wav')],\n",
       "             '90117110001': [PosixPath('data/mp3s-32k/fleetwood_mac/Tusk/18-Walk_a_Thin_Line.wav')],\n",
       "             '32247203180': [PosixPath('data/mp3s-32k/fleetwood_mac/Tusk/12-That_s_Enough_for_Me.wav')],\n",
       "             '0130812253': [PosixPath('data/mp3s-32k/fleetwood_mac/Tango_In_The_Night/10-Isn_t_It_Midnight.wav')],\n",
       "             '15047371421': [PosixPath('data/mp3s-32k/fleetwood_mac/Tango_In_The_Night/11-When_I_See_You_Again.wav')],\n",
       "             '431521104516': [PosixPath('data/mp3s-32k/fleetwood_mac/Tango_In_The_Night/03-Everywhere.wav')],\n",
       "             '60200242080': [PosixPath('data/mp3s-32k/fleetwood_mac/Tango_In_The_Night/05-Tango_In_The_Night.wav')],\n",
       "             '0204413121': [PosixPath('data/mp3s-32k/fleetwood_mac/Tango_In_The_Night/12-You_and_I_Part_II.wav')],\n",
       "             '3313621091037': [PosixPath('data/mp3s-32k/fleetwood_mac/Tango_In_The_Night/02-Seven_Wonders.wav')],\n",
       "             '26132824714': [PosixPath('data/mp3s-32k/fleetwood_mac/Tango_In_The_Night/07-Little_Lies.wav')],\n",
       "             '1717841151000': [PosixPath('data/mp3s-32k/fleetwood_mac/Tango_In_The_Night/04-Caroline.wav')],\n",
       "             '111420012151': [PosixPath('data/mp3s-32k/fleetwood_mac/Tango_In_The_Night/08-Family_Man.wav')],\n",
       "             '01300190020': [PosixPath('data/mp3s-32k/fleetwood_mac/Tango_In_The_Night/01-Big_Love.wav')],\n",
       "             '7231410241139': [PosixPath('data/mp3s-32k/fleetwood_mac/Tango_In_The_Night/09-Welcome_To_The_Room_Sara.wav')],\n",
       "             '1341333604': [PosixPath('data/mp3s-32k/fleetwood_mac/Tango_In_The_Night/06-Mystified.wav')],\n",
       "             '05031761420': [PosixPath('data/mp3s-32k/fleetwood_mac/Rumours/08-You_Make_Loving_Fun.wav')],\n",
       "             '6121026252': [PosixPath('data/mp3s-32k/fleetwood_mac/Rumours/01-Second_Hand_News.wav')],\n",
       "             '42113100321': [PosixPath('data/mp3s-32k/fleetwood_mac/Rumours/09-I_Don_t_Want_To_Know.wav')],\n",
       "             '19081122133': [PosixPath('data/mp3s-32k/fleetwood_mac/Rumours/04-Don_t_Stop.wav')],\n",
       "             '19120861096': [PosixPath('data/mp3s-32k/fleetwood_mac/Rumours/02-Dreams.wav')],\n",
       "             '02540011100': [PosixPath('data/mp3s-32k/fleetwood_mac/Rumours/03-Never_Going_Back_Again.wav')],\n",
       "             '10511222331': [PosixPath('data/mp3s-32k/fleetwood_mac/Rumours/06-Songbird.wav')],\n",
       "             '16015483408': [PosixPath('data/mp3s-32k/fleetwood_mac/Rumours/05-Go_Your_Own_Way.wav')],\n",
       "             '77125146111514': [PosixPath('data/mp3s-32k/fleetwood_mac/Rumours/11-Gold_Dust_Woman.wav')],\n",
       "             '0110032010': [PosixPath('data/mp3s-32k/fleetwood_mac/Rumours/10-Oh_Daddy.wav')],\n",
       "             '16816143629': [PosixPath('data/mp3s-32k/fleetwood_mac/Rumours/07-The_Chain.wav')],\n",
       "             '25013201472': [PosixPath('data/mp3s-32k/fleetwood_mac/Mirage/06-Only_over_You.wav')],\n",
       "             '61412014630': [PosixPath('data/mp3s-32k/fleetwood_mac/Mirage/03-That_s_Alright.wav')],\n",
       "             '7413111042181': [PosixPath('data/mp3s-32k/fleetwood_mac/Mirage/11-Eyes_of_the_World.wav')],\n",
       "             '01002110228': [PosixPath('data/mp3s-32k/fleetwood_mac/Mirage/02-Can_t_Go_Back.wav')],\n",
       "             '4274134030': [PosixPath('data/mp3s-32k/fleetwood_mac/Mirage/04-Book_of_Love.wav')],\n",
       "             '994130621102': [PosixPath('data/mp3s-32k/fleetwood_mac/Mirage/09-Hold_Me.wav')],\n",
       "             '11300106415': [PosixPath('data/mp3s-32k/fleetwood_mac/Mirage/05-Gypsy.wav')],\n",
       "             '4385234200': [PosixPath('data/mp3s-32k/fleetwood_mac/Mirage/12-Wish_You_Were_Here.wav')],\n",
       "             '1241011150161': [PosixPath('data/mp3s-32k/fleetwood_mac/Mirage/08-Straight_Back.wav')],\n",
       "             '22130014210': [PosixPath('data/mp3s-32k/fleetwood_mac/Mirage/10-Oh_Diane.wav')],\n",
       "             '13392142302': [PosixPath('data/mp3s-32k/fleetwood_mac/Mirage/01-Love_in_Store.wav')],\n",
       "             '9104120020': [PosixPath('data/mp3s-32k/fleetwood_mac/Mirage/07-Empire_State.wav')],\n",
       "             '0910595231': [PosixPath('data/mp3s-32k/fleetwood_mac/Fleetwood_Mac/01-Monday_Morning.wav')],\n",
       "             '1103141201103': [PosixPath('data/mp3s-32k/fleetwood_mac/Fleetwood_Mac/11-I_m_So_Afraid.wav')],\n",
       "             '6105122418': [PosixPath('data/mp3s-32k/fleetwood_mac/Fleetwood_Mac/02-Warm_Ways.wav')],\n",
       "             '9513310530': [PosixPath('data/mp3s-32k/fleetwood_mac/Fleetwood_Mac/06-Crystal.wav')],\n",
       "             '0222047053': [PosixPath('data/mp3s-32k/fleetwood_mac/Fleetwood_Mac/10-Sugar_Daddy.wav')],\n",
       "             '112357016105': [PosixPath('data/mp3s-32k/fleetwood_mac/Fleetwood_Mac/03-Blue_Letter.wav')],\n",
       "             '351416140137': [PosixPath('data/mp3s-32k/fleetwood_mac/Fleetwood_Mac/04-Rhiannon.wav')],\n",
       "             '61201410440': [PosixPath('data/mp3s-32k/fleetwood_mac/Fleetwood_Mac/08-Landslide.wav')],\n",
       "             '12235013302': [PosixPath('data/mp3s-32k/fleetwood_mac/Fleetwood_Mac/09-World_Turning.wav')],\n",
       "             '0013100038': [PosixPath('data/mp3s-32k/fleetwood_mac/Fleetwood_Mac/07-Say_You_Love_Me.wav')],\n",
       "             '23008111091': [PosixPath('data/mp3s-32k/fleetwood_mac/Fleetwood_Mac/05-Over_My_Head.wav')],\n",
       "             '2010351753000': [PosixPath('data/mp3s-32k/queen/Sheer_Heart_Attack/04-Flick_Of_The_Wrist.wav')],\n",
       "             '0111000146': [PosixPath('data/mp3s-32k/queen/Sheer_Heart_Attack/08-Stone_Cold_Crazy.wav')],\n",
       "             '1219908210290': [PosixPath('data/mp3s-32k/queen/Sheer_Heart_Attack/12-She_Makes_Me_Stormtrooper_In_Stilettos_.wav')],\n",
       "             '201110154404': [PosixPath('data/mp3s-32k/queen/Sheer_Heart_Attack/07-In_The_Lap_Of_The_Gods.wav')],\n",
       "             '5211712035': [PosixPath('data/mp3s-32k/queen/Sheer_Heart_Attack/06-Now_I_m_Here.wav')],\n",
       "             '1004001540': [PosixPath('data/mp3s-32k/queen/Sheer_Heart_Attack/03-Tenement_Funster.wav')],\n",
       "             '0190454121': [PosixPath('data/mp3s-32k/queen/Sheer_Heart_Attack/14-Stone_Cold_Crazy_1991_Bonus_Remix_by_Michael_Wagener_.wav')],\n",
       "             '2413220012': [PosixPath('data/mp3s-32k/queen/Sheer_Heart_Attack/11-Bring_Back_That_Leroy_Brown.wav')],\n",
       "             '10220104580': [PosixPath('data/mp3s-32k/queen/Sheer_Heart_Attack/09-Dear_Friends.wav')],\n",
       "             '5100816441': [PosixPath('data/mp3s-32k/queen/Sheer_Heart_Attack/05-Lily_Of_The_Valley.wav')],\n",
       "             '2733220535': [PosixPath('data/mp3s-32k/queen/Sheer_Heart_Attack/10-Misfire.wav')],\n",
       "             '0394415120': [PosixPath('data/mp3s-32k/queen/Sheer_Heart_Attack/02-Killer_Queen.wav')],\n",
       "             '100101202331': [PosixPath('data/mp3s-32k/queen/Sheer_Heart_Attack/13-In_The_Lap_Of_The_Gods_Revisited.wav')],\n",
       "             '3643123504': [PosixPath('data/mp3s-32k/queen/Sheer_Heart_Attack/01-Brighton_Rock.wav')],\n",
       "             '2136430170': [PosixPath('data/mp3s-32k/queen/The_Works/05-Machines_Back_To_Humans_.wav')],\n",
       "             '04103414235': [PosixPath('data/mp3s-32k/queen/The_Works/01-Radio_Ga_Ga.wav')],\n",
       "             '146141000621': [PosixPath('data/mp3s-32k/queen/The_Works/02-Tear_It_Up.wav')],\n",
       "             '5205234112': [PosixPath('data/mp3s-32k/queen/The_Works/06-I_Want_To_Break_Free.wav')],\n",
       "             '01012115500': [PosixPath('data/mp3s-32k/queen/The_Works/03-It_s_A_Hard_Life.wav')],\n",
       "             '11147961083': [PosixPath('data/mp3s-32k/queen/The_Works/09-Is_This_The_World_We_Created_.wav')],\n",
       "             '311300001024': [PosixPath('data/mp3s-32k/queen/The_Works/10-I_Go_Crazy.wav')],\n",
       "             '65133346731': [PosixPath('data/mp3s-32k/queen/The_Works/07-Keep_Passing_The_Open_Windows.wav')],\n",
       "             '21014101021122': [PosixPath('data/mp3s-32k/queen/The_Works/11-Radio_Ga_Ga_Extended_Version_.wav')],\n",
       "             '1235130403': [PosixPath('data/mp3s-32k/queen/The_Works/08-Hammer_To_Fall.wav')],\n",
       "             '0012007230': [PosixPath('data/mp3s-32k/queen/The_Works/12-I_Want_To_Break_Free_Extended_Mix_.wav')],\n",
       "             '350412122043': [PosixPath('data/mp3s-32k/queen/The_Works/04-Man_On_The_Prowl.wav')],\n",
       "             '10185330400': [PosixPath('data/mp3s-32k/queen/News_Of_The_World/12-We_Will_Rock_You_1991_Bonus_Remix_ruined_by_Rick_Rubin_.wav')],\n",
       "             '12111001112': [PosixPath('data/mp3s-32k/queen/News_Of_The_World/10-It_s_Late.wav')],\n",
       "             '0500412293': [PosixPath('data/mp3s-32k/queen/News_Of_The_World/04-All_Dead_All_Dead.wav')],\n",
       "             '5357727410': [PosixPath('data/mp3s-32k/queen/News_Of_The_World/11-My_Melancholy_Blues.wav')],\n",
       "             '1213215141': [PosixPath('data/mp3s-32k/queen/News_Of_The_World/05-Spread_Your_Wings.wav')],\n",
       "             '3107003403': [PosixPath('data/mp3s-32k/queen/News_Of_The_World/09-Who_Needs_You.wav')],\n",
       "             '5410120231': [PosixPath('data/mp3s-32k/queen/News_Of_The_World/08-Sleeping_On_The_Sidewalk.wav')],\n",
       "             '02952351106': [PosixPath('data/mp3s-32k/queen/News_Of_The_World/03-Sheer_Heart_Attack.wav')],\n",
       "             '311321129433': [PosixPath('data/mp3s-32k/queen/News_Of_The_World/01-We_Will_Rock_You.wav')],\n",
       "             '70108501910': [PosixPath('data/mp3s-32k/queen/News_Of_The_World/06-Fight_From_The_Inside.wav')],\n",
       "             '03123731125': [PosixPath('data/mp3s-32k/queen/News_Of_The_World/07-Get_Down_Make_Love.wav')],\n",
       "             '1231103002': [PosixPath('data/mp3s-32k/queen/News_Of_The_World/02-We_Are_The_Champions.wav')],\n",
       "             '62314050134': [PosixPath('data/mp3s-32k/queen/A_Night_At_the_Opera/10-Good_Company.wav')],\n",
       "             '7023534521': [PosixPath('data/mp3s-32k/queen/A_Night_At_the_Opera/02-Lazing_On_a_Sunday_Afternoon.wav')],\n",
       "             '1201221430': [PosixPath('data/mp3s-32k/queen/A_Night_At_the_Opera/06-Sweet_Lady.wav')],\n",
       "             '04104560234': [PosixPath('data/mp3s-32k/queen/A_Night_At_the_Opera/01-Death_On_Two_Legs_Dedicated_To_.wav')],\n",
       "             '7323005311': [PosixPath('data/mp3s-32k/queen/A_Night_At_the_Opera/12-God_Save_the_Queen.wav')],\n",
       "             '6205443133': [PosixPath('data/mp3s-32k/queen/A_Night_At_the_Opera/08-The_Prophet_s_Song.wav')],\n",
       "             '114122180580': [PosixPath('data/mp3s-32k/queen/A_Night_At_the_Opera/14-You_re_My_Best_Friend.wav')],\n",
       "             '128221026648': [PosixPath('data/mp3s-32k/queen/A_Night_At_the_Opera/11-Bohemian_Rhapsody.wav')],\n",
       "             '0215003021': [PosixPath('data/mp3s-32k/queen/A_Night_At_the_Opera/04-You_re_My_Best_Friend.wav')],\n",
       "             '1131110302': [PosixPath('data/mp3s-32k/queen/A_Night_At_the_Opera/07-Seaside_Rendezvous.wav')],\n",
       "             '11115032116114': [PosixPath('data/mp3s-32k/queen/A_Night_At_the_Opera/13-I_m_In_Love_With_My_Car.wav')],\n",
       "             '3712715121': [PosixPath('data/mp3s-32k/queen/A_Night_At_the_Opera/03-I_m_In_Love_With_My_Car.wav')],\n",
       "             '050710032410': [PosixPath('data/mp3s-32k/queen/A_Night_At_the_Opera/05-_39.wav')],\n",
       "             '1650462405': [PosixPath('data/mp3s-32k/queen/A_Night_At_the_Opera/09-Love_of_My_Life.wav')],\n",
       "             '21141773191': [PosixPath('data/mp3s-32k/queen/The_Game/03-Another_One_Bites_The_Dust.wav')],\n",
       "             '11111270240511': [PosixPath('data/mp3s-32k/queen/The_Game/05-Crazy_Little_Thing_Called_Love.wav')],\n",
       "             '7330412133': [PosixPath('data/mp3s-32k/queen/The_Game/10-Save_Me.wav')],\n",
       "             '06617391044': [PosixPath('data/mp3s-32k/queen/The_Game/11-Dragon_Attack_1991_Bonus_Remix_.wav')],\n",
       "             '3218310611': [PosixPath('data/mp3s-32k/queen/The_Game/07-Don_t_Try_Suicide.wav')],\n",
       "             '9001002132': [PosixPath('data/mp3s-32k/queen/The_Game/02-Dragon_Attack.wav')],\n",
       "             '1141061642518': [PosixPath('data/mp3s-32k/queen/The_Game/09-Coming_Soon.wav')],\n",
       "             '0085435141': [PosixPath('data/mp3s-32k/queen/The_Game/06-Rock_It_Prime_Jive_.wav')],\n",
       "             '17103200423': [PosixPath('data/mp3s-32k/queen/The_Game/04-Need_Your_Loving_Tonight.wav')],\n",
       "             '12610014615': [PosixPath('data/mp3s-32k/queen/The_Game/08-Sail_Away_Sweet_Sister.wav')],\n",
       "             '1921633342': [PosixPath('data/mp3s-32k/queen/The_Game/01-Play_The_Game.wav')],\n",
       "             '0203260231': [PosixPath('data/mp3s-32k/queen/Jazz/05-If_You_Can_t_Beat_Them.wav')],\n",
       "             '73121014412': [PosixPath('data/mp3s-32k/queen/Jazz/09-Dreamers_Ball.wav')],\n",
       "             '1024225150114': [PosixPath('data/mp3s-32k/queen/Jazz/01-Mustapha.wav')],\n",
       "             '13603110623': [PosixPath('data/mp3s-32k/queen/Jazz/03-Jealousy.wav')],\n",
       "             '02102242122': [PosixPath('data/mp3s-32k/queen/Jazz/14-Fat_Bottomed_Girls_1991_Remix_.wav')],\n",
       "             '1156011930': [PosixPath('data/mp3s-32k/queen/Jazz/10-Fun_It.wav')],\n",
       "             '2623120421': [PosixPath('data/mp3s-32k/queen/Jazz/12-Don_t_Stop_Me_Now.wav')],\n",
       "             '97029516118': [PosixPath('data/mp3s-32k/queen/Jazz/02-Fat_Bottomed_Girls.wav')],\n",
       "             '5448143420': [PosixPath('data/mp3s-32k/queen/Jazz/13-More_Of_That_Jazz.wav')],\n",
       "             '6323701362': [PosixPath('data/mp3s-32k/queen/Jazz/04-Bicycle_Race.wav')],\n",
       "             '0101250704': [PosixPath('data/mp3s-32k/queen/Jazz/07-Dead_On_Time.wav')],\n",
       "             '7230193030': [PosixPath('data/mp3s-32k/queen/Jazz/15-Bicycle_Race_1991_Remix_.wav')],\n",
       "             '41823306371': [PosixPath('data/mp3s-32k/queen/Jazz/11-Leaving_Home_Ain_t_Easy.wav')],\n",
       "             '1506040102': [PosixPath('data/mp3s-32k/queen/Jazz/06-Let_Me_Entertain_You.wav')],\n",
       "             '6437223430': [PosixPath('data/mp3s-32k/queen/Jazz/08-In_Only_Seven_Days.wav')],\n",
       "             '212617341103': [PosixPath('data/mp3s-32k/garth_brooks/In_Pieces/01-Standing_Outside_The_Fire.wav')],\n",
       "             '1709401221': [PosixPath('data/mp3s-32k/garth_brooks/In_Pieces/09-Callin_Baton_Rouge.wav')],\n",
       "             '0530023458': [PosixPath('data/mp3s-32k/garth_brooks/In_Pieces/04-One_Night_A_Day.wav')],\n",
       "             '43951540100': [PosixPath('data/mp3s-32k/garth_brooks/In_Pieces/10-The_Night_Will_Only_Know.wav')],\n",
       "             '11104430341': [PosixPath('data/mp3s-32k/garth_brooks/In_Pieces/08-The_Red_Strokes.wav')],\n",
       "             '10170004464': [PosixPath('data/mp3s-32k/garth_brooks/In_Pieces/02-The_Night_I_Called_The_Old_Man_Out.wav')],\n",
       "             '3313359220': [PosixPath('data/mp3s-32k/garth_brooks/In_Pieces/03-American_Honky_Tonk_Bar_Association.wav')],\n",
       "             '0624510536': [PosixPath('data/mp3s-32k/garth_brooks/In_Pieces/06-Anonymous.wav')],\n",
       "             '1102103001': [PosixPath('data/mp3s-32k/garth_brooks/In_Pieces/05-Ain_t_Goin_Down_Till_The_Sun_Comes_Up_.wav')],\n",
       "             '38102602122': [PosixPath('data/mp3s-32k/garth_brooks/In_Pieces/07-Kickin_And_Screamin_.wav')],\n",
       "             '4451327633': [PosixPath('data/mp3s-32k/garth_brooks/In_Pieces/11-The_Cowboy_Song.wav')],\n",
       "             '620341611610': [PosixPath('data/mp3s-32k/garth_brooks/No_Fences_The_Limited_Series_/08-Unanswered_Prayers.wav')],\n",
       "             '13115205556': [PosixPath('data/mp3s-32k/garth_brooks/No_Fences_The_Limited_Series_/09-Same_Old_Story.wav')],\n",
       "             '10155010222': [PosixPath('data/mp3s-32k/garth_brooks/No_Fences_The_Limited_Series_/10-Mr_Blue.wav')],\n",
       "             '8203372181': [PosixPath('data/mp3s-32k/garth_brooks/No_Fences_The_Limited_Series_/06-This_Ain_t_Tennessee.wav')],\n",
       "             '0010140058': [PosixPath('data/mp3s-32k/garth_brooks/No_Fences_The_Limited_Series_/07-Wild_Horses.wav')],\n",
       "             '16924041144': [PosixPath('data/mp3s-32k/garth_brooks/No_Fences_The_Limited_Series_/03-Two_Of_A_Kind_Workin_On_A_Full_House.wav')],\n",
       "             '12003562570': [PosixPath('data/mp3s-32k/garth_brooks/No_Fences_The_Limited_Series_/01-The_Thunder_Rolls.wav')],\n",
       "             '22111412613': [PosixPath('data/mp3s-32k/garth_brooks/No_Fences_The_Limited_Series_/11-Wolves.wav')],\n",
       "             '7137970182': [PosixPath('data/mp3s-32k/garth_brooks/No_Fences_The_Limited_Series_/04-Victim_Of_The_Game.wav')],\n",
       "             '0040032964': [PosixPath('data/mp3s-32k/garth_brooks/No_Fences_The_Limited_Series_/02-New_Way_To_Fly.wav')],\n",
       "             '1701423040': [PosixPath('data/mp3s-32k/garth_brooks/No_Fences_The_Limited_Series_/05-Friends_In_Low_Places.wav')],\n",
       "             '413161140126': [PosixPath('data/mp3s-32k/garth_brooks/Fresh_Horses_2000/07-The_Beaches_of_Cheyenne.wav')],\n",
       "             '1382702244': [PosixPath('data/mp3s-32k/garth_brooks/Fresh_Horses_2000/01-The_Old_Stuff.wav')],\n",
       "             '1720302181120': [PosixPath('data/mp3s-32k/garth_brooks/Fresh_Horses_2000/04-That_Ol_Wind.wav')],\n",
       "             '51050354465': [PosixPath('data/mp3s-32k/garth_brooks/Fresh_Horses_2000/06-The_Change.wav')],\n",
       "             '31217120414': [PosixPath('data/mp3s-32k/garth_brooks/Fresh_Horses_2000/03-The_Fever.wav')],\n",
       "             '1709003510': [PosixPath('data/mp3s-32k/garth_brooks/Fresh_Horses_2000/05-Rollin_.wav')],\n",
       "             '4340810427': [PosixPath('data/mp3s-32k/garth_brooks/Fresh_Horses_2000/11-Ireland.wav')],\n",
       "             '08234321532': [PosixPath('data/mp3s-32k/garth_brooks/Fresh_Horses_2000/08-To_Make_You_Feel_My_Love.wav')],\n",
       "             '1604180163': [PosixPath('data/mp3s-32k/garth_brooks/Fresh_Horses_2000/10-She_s_Every_Woman.wav')],\n",
       "             '211810016410': [PosixPath('data/mp3s-32k/garth_brooks/Fresh_Horses_2000/09-It_s_Midnight_Cinderella.wav')],\n",
       "             '144132221117': [PosixPath('data/mp3s-32k/garth_brooks/Fresh_Horses_2000/02-Cowboys_and_Angels.wav')],\n",
       "             '0545313013': [PosixPath('data/mp3s-32k/garth_brooks/Garth_Brooks_The_Limited_Series_/10-I_Know_One.wav')],\n",
       "             '11041250390': [PosixPath('data/mp3s-32k/garth_brooks/Garth_Brooks_The_Limited_Series_/06-Alabama_Clay.wav')],\n",
       "             '24100142133': [PosixPath('data/mp3s-32k/garth_brooks/Garth_Brooks_The_Limited_Series_/05-Everytime_That_It_Rains.wav')],\n",
       "             '1531430406': [PosixPath('data/mp3s-32k/garth_brooks/Garth_Brooks_The_Limited_Series_/07-Much_Too_Young_To_Feel_This_Damn_Old_.wav')],\n",
       "             '53041114670': [PosixPath('data/mp3s-32k/garth_brooks/Garth_Brooks_The_Limited_Series_/09-Nobody_Gets_Off_In_This_Town.wav')],\n",
       "             '126131302123': [PosixPath('data/mp3s-32k/garth_brooks/Garth_Brooks_The_Limited_Series_/02-I_ve_Got_A_Good_Thing_Going.wav')],\n",
       "             '3152043692': [PosixPath('data/mp3s-32k/garth_brooks/Garth_Brooks_The_Limited_Series_/01-Not_Counting_You.wav')],\n",
       "             '16204730045': [PosixPath('data/mp3s-32k/garth_brooks/Garth_Brooks_The_Limited_Series_/04-Uptown_Down-Home_Good_Ol_Boy.wav')],\n",
       "             '16104621130': [PosixPath('data/mp3s-32k/garth_brooks/Garth_Brooks_The_Limited_Series_/03-If_Tomorrow_Never_Comes.wav')],\n",
       "             '04420100478': [PosixPath('data/mp3s-32k/garth_brooks/Garth_Brooks_The_Limited_Series_/08-Cowboy_Bill.wav')],\n",
       "             '5164021106': [PosixPath('data/mp3s-32k/garth_brooks/Garth_Brooks_The_Limited_Series_/11-The_Dance.wav')],\n",
       "             '11611374610': [PosixPath('data/mp3s-32k/garth_brooks/Ropin_The_Wind_The_Limited_Series_/11-The_River.wav')],\n",
       "             '10408710348': [PosixPath('data/mp3s-32k/garth_brooks/Ropin_The_Wind_The_Limited_Series_/08-Cold_Shoulder.wav')],\n",
       "             '71435601165': [PosixPath('data/mp3s-32k/garth_brooks/Ropin_The_Wind_The_Limited_Series_/07-Shameless.wav')],\n",
       "             '0113014231': [PosixPath('data/mp3s-32k/garth_brooks/Ropin_The_Wind_The_Limited_Series_/02-Rodeo.wav')],\n",
       "             '11020822410': [PosixPath('data/mp3s-32k/garth_brooks/Ropin_The_Wind_The_Limited_Series_/05-Which_One_Of_Them.wav')],\n",
       "             '21432131017122': [PosixPath('data/mp3s-32k/garth_brooks/Ropin_The_Wind_The_Limited_Series_/06-Papa_Loved_Mama.wav')],\n",
       "             '3303051440': [PosixPath('data/mp3s-32k/garth_brooks/Ropin_The_Wind_The_Limited_Series_/03-What_She_s_Doing_Now.wav')],\n",
       "             '02406140124': [PosixPath('data/mp3s-32k/garth_brooks/Ropin_The_Wind_The_Limited_Series_/09-We_Bury_The_Hatchet.wav')],\n",
       "             '1175113068': [PosixPath('data/mp3s-32k/garth_brooks/Ropin_The_Wind_The_Limited_Series_/10-In_Lonesome_Dove.wav')],\n",
       "             '2307304413': [PosixPath('data/mp3s-32k/garth_brooks/Ropin_The_Wind_The_Limited_Series_/04-Burning_Bridges.wav')],\n",
       "             '3580010351': [PosixPath('data/mp3s-32k/garth_brooks/Ropin_The_Wind_The_Limited_Series_/01-Against_The_Grain.wav')],\n",
       "             '1415634632': [PosixPath('data/mp3s-32k/garth_brooks/The_Chase/08-That_Summer.wav')],\n",
       "             '02314011103': [PosixPath('data/mp3s-32k/garth_brooks/The_Chase/09-Something_With_A_Ring_To_It.wav')],\n",
       "             '21400401410': [PosixPath('data/mp3s-32k/garth_brooks/The_Chase/07-Learning_To_Live_Again.wav')],\n",
       "             '15427653224': [PosixPath('data/mp3s-32k/garth_brooks/The_Chase/04-Every_Now_And_Then.wav')],\n",
       "             '13132180120': [PosixPath('data/mp3s-32k/garth_brooks/The_Chase/01-We_Shall_Be_Free.wav')],\n",
       "             '4142300831': [PosixPath('data/mp3s-32k/garth_brooks/The_Chase/05-Walking_After_Midnight.wav')],\n",
       "             '0010041695': [PosixPath('data/mp3s-32k/garth_brooks/The_Chase/11-Face_To_Face.wav')],\n",
       "             '6033138113': [PosixPath('data/mp3s-32k/garth_brooks/The_Chase/02-Somewhere_Other_Than_The_Night.wav')],\n",
       "             '1007310000': [PosixPath('data/mp3s-32k/garth_brooks/The_Chase/03-Mr_Right.wav')],\n",
       "             '0049423101': [PosixPath('data/mp3s-32k/garth_brooks/The_Chase/06-Dixie_Chicken.wav')],\n",
       "             '6025051301': [PosixPath('data/mp3s-32k/garth_brooks/The_Chase/10-Night_Rider_s_Lament.wav')],\n",
       "             '1011110201': [PosixPath('data/mp3s-32k/cure/Disintegration/08-Prayers_For_Rain.wav')],\n",
       "             '0010112001': [PosixPath('data/mp3s-32k/cure/Disintegration/04-Love_Song.wav')],\n",
       "             '0000102001': [PosixPath('data/mp3s-32k/cure/Disintegration/11-Homesick.wav')]})"
      ]
     },
     "execution_count": 27,
     "metadata": {},
     "output_type": "execute_result"
    }
   ],
   "source": [
    "lsh.hash_tables[3].hash_table"
   ]
  },
  {
   "cell_type": "code",
   "execution_count": 28,
   "metadata": {},
   "outputs": [],
   "source": [
    "audioq = \"./data/queries/track1.wav\"\n",
    "audio = \"./data/mp3s-32k/aerosmith/Aerosmith/03-Dream_On.wav\""
   ]
  },
  {
   "cell_type": "markdown",
   "metadata": {},
   "source": [
    "# Query test"
   ]
  },
  {
   "cell_type": "markdown",
   "metadata": {},
   "source": [
    "take the fisrt query"
   ]
  },
  {
   "cell_type": "code",
   "execution_count": 29,
   "metadata": {},
   "outputs": [
    {
     "data": {
      "text/plain": [
       "\"audio = 'data/queries/track3.wav'\""
      ]
     },
     "execution_count": 29,
     "metadata": {},
     "output_type": "execute_result"
    }
   ],
   "source": [
    "\"\"\"audio = 'data/queries/track3.wav'\"\"\""
   ]
  },
  {
   "cell_type": "markdown",
   "metadata": {},
   "source": [
    "make the hashmin of the song"
   ]
  },
  {
   "cell_type": "code",
   "execution_count": 30,
   "metadata": {},
   "outputs": [
    {
     "data": {
      "text/plain": [
       "'track, sr, onset_env, peaks = load_audio_picks(audio, DURATION, HOP_SIZE)\\ntimess = librosa.frames_to_time(np.arange(len(onset_env)), sr=sr, hop_length=HOP_SIZE)\\ntimesPeaks = timeOfPeaks(peaks, timess)\\nfreqsP = [onset_env[i] for i in peaks]\\n    \\nh = minhash(freqsP, timesPeaks, THRESHOLD, DURATION)\\nh'"
      ]
     },
     "execution_count": 30,
     "metadata": {},
     "output_type": "execute_result"
    }
   ],
   "source": [
    "\"\"\"track, sr, onset_env, peaks = load_audio_picks(audio, DURATION, HOP_SIZE)\n",
    "timess = librosa.frames_to_time(np.arange(len(onset_env)), sr=sr, hop_length=HOP_SIZE)\n",
    "timesPeaks = timeOfPeaks(peaks, timess)\n",
    "freqsP = [onset_env[i] for i in peaks]\n",
    "    \n",
    "h = minhash(freqsP, timesPeaks, THRESHOLD, DURATION)\n",
    "h\"\"\""
   ]
  },
  {
   "cell_type": "markdown",
   "metadata": {},
   "source": [
    "lets see if it match something..."
   ]
  },
  {
   "cell_type": "code",
   "execution_count": 31,
   "metadata": {},
   "outputs": [
    {
     "data": {
      "text/plain": [
       "'guess_song(audio)'"
      ]
     },
     "execution_count": 31,
     "metadata": {},
     "output_type": "execute_result"
    }
   ],
   "source": [
    "\"\"\"guess_song(audio)\"\"\""
   ]
  },
  {
   "cell_type": "code",
   "execution_count": 32,
   "metadata": {},
   "outputs": [
    {
     "data": {
      "text/plain": [
       "'data_folder2 = Path(\"./data/queries/\")\\nquery_tracks = data_folder2.glob(\"./*.wav\")\\nget = 0\\nmiss = 0\\nfor query in query_tracks:\\n    print(\"\\nCurrent query: \" + str(query) + \"\\n\")\\n    try:\\n        print(guess_song(query))\\n        get += 1\\n    except KeyError:\\n        print(\"Not matched!\")\\n        miss += 1\\n    print(\"\\n===========================================\\n\")\\n    \\nprint(\"Song matched: \" + str(get) + \"  Song missed: \" + str(miss))'"
      ]
     },
     "execution_count": 32,
     "metadata": {},
     "output_type": "execute_result"
    }
   ],
   "source": [
    "\"\"\"data_folder2 = Path(\"./data/queries/\")\n",
    "query_tracks = data_folder2.glob(\"./*.wav\")\n",
    "get = 0\n",
    "miss = 0\n",
    "for query in query_tracks:\n",
    "    print(\"\\nCurrent query: \" + str(query) + \"\\n\")\n",
    "    try:\n",
    "        print(guess_song(query))\n",
    "        get += 1\n",
    "    except KeyError:\n",
    "        print(\"Not matched!\")\n",
    "        miss += 1\n",
    "    print(\"\\n===========================================\\n\")\n",
    "    \n",
    "print(\"Song matched: \" + str(get) + \"  Song missed: \" + str(miss))\"\"\""
   ]
  }
 ],
 "metadata": {
  "interpreter": {
   "hash": "1cab321cb1acdda0c363d7de36f5defdacb4b1bdc03056ebbf5164ad5dbb0ce6"
  },
  "kernelspec": {
   "display_name": "Python 3",
   "language": "python",
   "name": "python3"
  },
  "language_info": {
   "codemirror_mode": {
    "name": "ipython",
    "version": 3
   },
   "file_extension": ".py",
   "mimetype": "text/x-python",
   "name": "python",
   "nbconvert_exporter": "python",
   "pygments_lexer": "ipython3",
   "version": "3.8.8"
  }
 },
 "nbformat": 4,
 "nbformat_minor": 4
}
